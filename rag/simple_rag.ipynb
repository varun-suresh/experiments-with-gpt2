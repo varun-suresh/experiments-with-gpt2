{
 "cells": [
  {
   "cell_type": "markdown",
   "metadata": {},
   "source": [
    "# RAG\n",
    "\n",
    "Build a simple Retrieval-Augmented Generation pipeline to demonstrate its working.\n",
    "\n",
    "Steps:\n",
    "1. Document Store: Use in-memory key-value store.\n",
    "2. Retrieval: Use embeddings from GPT-2\n",
    "3. Generation: Use GPT-2 for generating a response"
   ]
  },
  {
   "cell_type": "code",
   "execution_count": null,
   "metadata": {},
   "outputs": [],
   "source": [
    "# Store the embeddings for the dev set\n",
    "import torch\n",
    "from torch.utils.data.dataloader import DataLoader\n",
    "from torch.nn.utils.rnn import pad_sequence\n",
    "import numpy as np\n",
    "import sys\n",
    "sys.path.append(\"/home/varun/projects/experiments-with-gpt2/\")\n",
    "\n",
    "import json\n",
    "from transformers import BertTokenizer,BertModel\n",
    "from transformers import DataCollatorWithPadding\n",
    "from bert import BERT\n",
    "from bert_config import BERTConfig\n",
    "from rag.snliDataset import snliDataset, snliEmbeddings\n",
    "from tqdm import tqdm\n",
    "\n",
    "model = BERT.from_pretrained(config=BERTConfig())\n",
    "tokenizer = BertTokenizer.from_pretrained(\"bert-base-uncased\")\n",
    "device=\"cuda\"\n",
    "model.to(device)\n",
    "model.eval()\n",
    "\n",
    "def dynamic_padding(data,device=\"cuda\"):\n",
    "    s1 = [item[\"sentence1\"] for item in data]\n",
    "    s2 = [item[\"sentence2\"] for item in data]\n",
    "    labels = [item[\"label\"] for item in data]\n",
    "    encoded = tokenizer(s1,s2,padding=True,truncation=True,return_tensors=\"pt\",max_length=512)\n",
    "    encoded[\"attention_mask\"] = encoded[\"attention_mask\"].bool()\n",
    "    encoded = {key: tensor.to(device) for key, tensor in encoded.items()}\n",
    "    return encoded,labels\n",
    "\n",
    "def prepare_data(split: str, output_filename:str):\n",
    "    \"\"\"\n",
    "    Store the training data in the following as a json file. Format:\n",
    "    {\n",
    "        'input_ids': [tokenized input ids for sentence 1, sentence2]\n",
    "        'embedding': [output of bert for the sentence1, sentence2 input],\n",
    "        'label': int (0,1,2)\n",
    "    }\n",
    "    \"\"\"\n",
    "    sd = snliDataset(split)\n",
    "    batch_size = 64\n",
    "    dl = DataLoader(sd,batch_size=batch_size,collate_fn=dynamic_padding)    \n",
    "\n",
    "    data = []\n",
    "    with torch.no_grad():\n",
    "        for encoded,labels in tqdm(dl):\n",
    "            \n",
    "            output = model(**encoded)\n",
    "            output = output.cpu()\n",
    "            embedding = output\n",
    "            seq_lens = torch.sum(encoded[\"attention_mask\"],dim=1)\n",
    "            for i in range(len(encoded)):\n",
    "                \n",
    "                data_item = {\n",
    "                    \"input_ids\": encoded[\"input_ids\"][i][:seq_lens[i]].cpu(),\n",
    "                    \"embedding\": embedding[i],\n",
    "                    \"label\": labels[i],\n",
    "                }\n",
    "                data.append(data_item)\n",
    "\n",
    "    torch.save({\"data\": data}, output_filename)\n",
    "    \n",
    "    print(f\"Wrote {split} data to {output_filename}\")\n",
    "\n",
    "# prepare_data(\"dev\", \"dev_data.pt\")\n",
    "# prepare_data(\"test\", \"test_data.pt\")\n",
    "prepare_data(\"train\",\"train_data.pt\")"
   ]
  },
  {
   "cell_type": "code",
   "execution_count": null,
   "metadata": {},
   "outputs": [],
   "source": [
    "# Build a MLP classifier\n",
    "from torch import nn\n",
    "import torch.nn.functional as F\n",
    "class MLP(nn.Module):\n",
    "    def __init__(self,input_size,hidden_size,output_size):\n",
    "        super(MLP, self).__init__()\n",
    "        self.hidden_layer = nn.Linear(input_size,hidden_size)\n",
    "        self.output_layer = nn.Linear(hidden_size,output_size)\n",
    "        self.dropout = nn.Dropout(0.1)\n",
    "    \n",
    "    def forward(self,x):\n",
    "        x = self.dropout(F.relu(self.hidden_layer(x)))\n",
    "        x = self.output_layer(x)\n",
    "        return x\n"
   ]
  },
  {
   "cell_type": "code",
   "execution_count": null,
   "metadata": {},
   "outputs": [],
   "source": [
    "# Train loop\n",
    "import torch\n",
    "import sys\n",
    "sys.path.append(\"/home/varun/projects/experiments-with-gpt2/\")\n",
    "\n",
    "from snliDataset import snliDataset, snliEmbeddings\n",
    "from torch.utils.data.dataloader import DataLoader\n",
    "\n",
    "split = \"train\"\n",
    "se_train = snliEmbeddings(split=split)\n"
   ]
  },
  {
   "cell_type": "code",
   "execution_count": null,
   "metadata": {},
   "outputs": [],
   "source": [
    "device = \"cuda\"\n",
    "mlp = MLP(768,256,3)\n",
    "mlp.to(device)\n",
    "criterion = nn.CrossEntropyLoss()\n",
    "learning_rate = 1e-3\n",
    "optimizer = torch.optim.Adam(mlp.parameters(),lr=learning_rate)\n",
    "scheduler = torch.optim.lr_scheduler.StepLR(optimizer,step_size=100,gamma=0.5)\n",
    "n_epochs = 500\n",
    "train_loader = DataLoader(se_train,batch_size=64,shuffle=True)\n",
    "\n",
    "for epoch in range(n_epochs):\n",
    "    mlp.train()\n",
    "    running_loss = 0.0\n",
    "\n",
    "    for i,batch in enumerate(train_loader):\n",
    "        optimizer.zero_grad()\n",
    "        outputs = mlp(batch[\"embedding\"].to(device))\n",
    "        loss = criterion(outputs,torch.tensor(batch[\"label\"]).to(device))\n",
    "        loss.backward()\n",
    "        optimizer.step()\n",
    "        running_loss += loss.item()\n",
    "    scheduler.step()        \n",
    "    print(f\"Epoch [{epoch+1}/{n_epochs}], Loss: {running_loss/len(train_loader):.4f}\")\n",
    "\n"
   ]
  },
  {
   "cell_type": "code",
   "execution_count": null,
   "metadata": {},
   "outputs": [],
   "source": [
    "# Evaluation\n",
    "mlp.eval()\n",
    "correct, total = 0, 0\n",
    "se_test = snliEmbeddings(split=\"test\")\n",
    "test_loader = DataLoader(se_test,batch_size=32)\n",
    "with torch.no_grad():\n",
    "    for batch in test_loader:\n",
    "        outputs = mlp(batch[\"embedding\"].to(device))\n",
    "        _, predicted = torch.max(outputs, 1)\n",
    "        # print(predicted, batch[\"label\"])\n",
    "        total += batch[\"label\"].size(0)\n",
    "        correct += (predicted == batch[\"label\"].to(device)).sum().item()\n",
    "    \n",
    "print(f\"Test Accuracy: {100 * correct / total:.2f}%\")"
   ]
  },
  {
   "cell_type": "markdown",
   "metadata": {},
   "source": [
    "Sentence BERT Training"
   ]
  },
  {
   "cell_type": "code",
   "execution_count": 1,
   "metadata": {},
   "outputs": [
    {
     "name": "stderr",
     "output_type": "stream",
     "text": [
      "/home/varun/projects/experiments-with-gpt2/.venv/lib/python3.12/site-packages/tqdm/auto.py:21: TqdmWarning: IProgress not found. Please update jupyter and ipywidgets. See https://ipywidgets.readthedocs.io/en/stable/user_install.html\n",
      "  from .autonotebook import tqdm as notebook_tqdm\n"
     ]
    },
    {
     "name": "stdout",
     "output_type": "stream",
     "text": [
      "Loading extracted data from /home/varun/Downloads/snli_1.0/sentenceBERT_dev.pt\n"
     ]
    },
    {
     "name": "stderr",
     "output_type": "stream",
     "text": [
      "/home/varun/projects/experiments-with-gpt2/rag/snliDataset.py:82: FutureWarning: You are using `torch.load` with `weights_only=False` (the current default value), which uses the default pickle module implicitly. It is possible to construct malicious pickle data which will execute arbitrary code during unpickling (See https://github.com/pytorch/pytorch/blob/main/SECURITY.md#untrusted-models for more details). In a future release, the default value for `weights_only` will be flipped to `True`. This limits the functions that could be executed during unpickling. Arbitrary objects will no longer be allowed to be loaded via this mode unless they are explicitly allowlisted by the user via `torch.serialization.add_safe_globals`. We recommend you start setting `weights_only=True` for any use case where you don't have full control of the loaded file. Please open an issue on GitHub for any issues related to this experimental feature.\n",
      "  self.data = torch.load(cache_fpath)[\"data\"]\n"
     ]
    }
   ],
   "source": [
    "import sys\n",
    "sys.path.append(\"/home/varun/projects/experiments-with-gpt2/\")\n",
    "\n",
    "from rag.train import Trainer\n",
    "from rag.snliDataset import sentenceBERTDataset\n",
    "from bert_config import BERTConfig, BERTTrainConfig\n",
    "\n",
    "train_set = sentenceBERTDataset(\"train\")\n",
    "val_set = sentenceBERTDataset(\"dev\")\n",
    "train_config = BERTTrainConfig()\n",
    "model_config = BERTConfig()\n",
    "\n",
    "trainer = Trainer(train_set, val_set,model_config, train_config)"
   ]
  },
  {
   "cell_type": "code",
   "execution_count": 2,
   "metadata": {},
   "outputs": [
    {
     "name": "stdout",
     "output_type": "stream",
     "text": [
      "Loading pre-trained weights for BERT\n"
     ]
    },
    {
     "name": "stderr",
     "output_type": "stream",
     "text": [
      "  0%|          | 1/300000 [00:05<480:24:55,  5.77s/it]"
     ]
    },
    {
     "name": "stdout",
     "output_type": "stream",
     "text": [
      "Step: 0\n",
      "Train Loss: 1.345630407333374\n",
      "Validation Loss:1.3962757587432861\n"
     ]
    },
    {
     "name": "stderr",
     "output_type": "stream",
     "text": [
      "  1%|          | 1999/300000 [02:05<4:49:21, 17.16it/s]"
     ]
    },
    {
     "name": "stdout",
     "output_type": "stream",
     "text": [
      "Step: 2000\n",
      "Train Loss: 0.9277328848838806\n",
      "Validation Loss:0.9481871724128723\n",
      "Saving checkpoint to out/bert_ckpt_train.pt\n"
     ]
    },
    {
     "name": "stderr",
     "output_type": "stream",
     "text": [
      "  1%|▏         | 3999/300000 [04:15<4:43:36, 17.40it/s]  "
     ]
    },
    {
     "name": "stdout",
     "output_type": "stream",
     "text": [
      "Step: 4000\n",
      "Train Loss: 0.9178657531738281\n",
      "Validation Loss:0.8213080167770386\n",
      "Saving checkpoint to out/bert_ckpt_train.pt\n"
     ]
    },
    {
     "name": "stderr",
     "output_type": "stream",
     "text": [
      "  2%|▏         | 5999/300000 [06:24<4:44:17, 17.24it/s]  "
     ]
    },
    {
     "name": "stdout",
     "output_type": "stream",
     "text": [
      "Step: 6000\n",
      "Train Loss: 0.7877076268196106\n",
      "Validation Loss:0.7275485992431641\n",
      "Saving checkpoint to out/bert_ckpt_train.pt\n"
     ]
    },
    {
     "name": "stderr",
     "output_type": "stream",
     "text": [
      "  3%|▎         | 8003/300000 [08:40<50:02:53,  1.62it/s] "
     ]
    },
    {
     "name": "stdout",
     "output_type": "stream",
     "text": [
      "Step: 8000\n",
      "Train Loss: 0.7771178483963013\n",
      "Validation Loss:0.7609997391700745\n"
     ]
    },
    {
     "name": "stderr",
     "output_type": "stream",
     "text": [
      "  3%|▎         | 9999/300000 [10:41<4:52:06, 16.55it/s] "
     ]
    },
    {
     "name": "stdout",
     "output_type": "stream",
     "text": [
      "Step: 10000\n",
      "Train Loss: 0.7720151543617249\n",
      "Validation Loss:0.6933119297027588\n",
      "Saving checkpoint to out/bert_ckpt_train.pt\n"
     ]
    },
    {
     "name": "stderr",
     "output_type": "stream",
     "text": [
      "  4%|▍         | 12003/300000 [12:57<52:11:19,  1.53it/s] "
     ]
    },
    {
     "name": "stdout",
     "output_type": "stream",
     "text": [
      "Step: 12000\n",
      "Train Loss: 0.7479739189147949\n",
      "Validation Loss:0.7340375185012817\n"
     ]
    },
    {
     "name": "stderr",
     "output_type": "stream",
     "text": [
      "  5%|▍         | 13999/300000 [14:58<4:51:11, 16.37it/s] "
     ]
    },
    {
     "name": "stdout",
     "output_type": "stream",
     "text": [
      "Step: 14000\n",
      "Train Loss: 0.7674320936203003\n",
      "Validation Loss:0.653600811958313\n",
      "Saving checkpoint to out/bert_ckpt_train.pt\n"
     ]
    },
    {
     "name": "stderr",
     "output_type": "stream",
     "text": [
      "  5%|▌         | 16003/300000 [17:14<49:06:41,  1.61it/s] "
     ]
    },
    {
     "name": "stdout",
     "output_type": "stream",
     "text": [
      "Step: 16000\n",
      "Train Loss: 0.6873766779899597\n",
      "Validation Loss:0.6889321804046631\n"
     ]
    },
    {
     "name": "stderr",
     "output_type": "stream",
     "text": [
      "  6%|▌         | 18003/300000 [19:19<48:25:44,  1.62it/s]"
     ]
    },
    {
     "name": "stdout",
     "output_type": "stream",
     "text": [
      "Step: 18000\n",
      "Train Loss: 0.6119562983512878\n",
      "Validation Loss:0.699036180973053\n"
     ]
    },
    {
     "name": "stderr",
     "output_type": "stream",
     "text": [
      "  7%|▋         | 20003/300000 [21:26<50:00:38,  1.56it/s]"
     ]
    },
    {
     "name": "stdout",
     "output_type": "stream",
     "text": [
      "Step: 20000\n",
      "Train Loss: 0.7430108189582825\n",
      "Validation Loss:0.6937074065208435\n"
     ]
    },
    {
     "name": "stderr",
     "output_type": "stream",
     "text": [
      "  7%|▋         | 22003/300000 [23:31<48:22:07,  1.60it/s]"
     ]
    },
    {
     "name": "stdout",
     "output_type": "stream",
     "text": [
      "Step: 22000\n",
      "Train Loss: 0.6567671895027161\n",
      "Validation Loss:0.6687963604927063\n"
     ]
    },
    {
     "name": "stderr",
     "output_type": "stream",
     "text": [
      "  8%|▊         | 23999/300000 [25:32<4:28:32, 17.13it/s] "
     ]
    },
    {
     "name": "stdout",
     "output_type": "stream",
     "text": [
      "Step: 24000\n",
      "Train Loss: 0.606904923915863\n",
      "Validation Loss:0.5758583545684814\n",
      "Saving checkpoint to out/bert_ckpt_train.pt\n"
     ]
    },
    {
     "name": "stderr",
     "output_type": "stream",
     "text": [
      "  9%|▊         | 26003/300000 [27:48<47:28:33,  1.60it/s] "
     ]
    },
    {
     "name": "stdout",
     "output_type": "stream",
     "text": [
      "Step: 26000\n",
      "Train Loss: 0.5327774882316589\n",
      "Validation Loss:0.7549976706504822\n"
     ]
    },
    {
     "name": "stderr",
     "output_type": "stream",
     "text": [
      "  9%|▉         | 28003/300000 [29:53<47:07:38,  1.60it/s]"
     ]
    },
    {
     "name": "stdout",
     "output_type": "stream",
     "text": [
      "Step: 28000\n",
      "Train Loss: 0.7031863331794739\n",
      "Validation Loss:0.6199772953987122\n"
     ]
    },
    {
     "name": "stderr",
     "output_type": "stream",
     "text": [
      " 10%|█         | 30003/300000 [32:01<48:43:10,  1.54it/s]"
     ]
    },
    {
     "name": "stdout",
     "output_type": "stream",
     "text": [
      "Step: 30000\n",
      "Train Loss: 0.6591920256614685\n",
      "Validation Loss:0.6686368584632874\n"
     ]
    },
    {
     "name": "stderr",
     "output_type": "stream",
     "text": [
      " 11%|█         | 32003/300000 [34:07<46:17:50,  1.61it/s]"
     ]
    },
    {
     "name": "stdout",
     "output_type": "stream",
     "text": [
      "Step: 32000\n",
      "Train Loss: 0.6026660203933716\n",
      "Validation Loss:0.7927854061126709\n"
     ]
    },
    {
     "name": "stderr",
     "output_type": "stream",
     "text": [
      " 11%|█▏        | 34003/300000 [36:13<46:00:32,  1.61it/s]"
     ]
    },
    {
     "name": "stdout",
     "output_type": "stream",
     "text": [
      "Step: 34000\n",
      "Train Loss: 0.6167892217636108\n",
      "Validation Loss:0.7285677194595337\n"
     ]
    },
    {
     "name": "stderr",
     "output_type": "stream",
     "text": [
      " 12%|█▏        | 36003/300000 [38:18<45:35:04,  1.61it/s]"
     ]
    },
    {
     "name": "stdout",
     "output_type": "stream",
     "text": [
      "Step: 36000\n",
      "Train Loss: 0.7224059104919434\n",
      "Validation Loss:0.6390355229377747\n"
     ]
    },
    {
     "name": "stderr",
     "output_type": "stream",
     "text": [
      " 13%|█▎        | 37999/300000 [40:18<4:14:14, 17.18it/s] "
     ]
    },
    {
     "name": "stdout",
     "output_type": "stream",
     "text": [
      "Step: 38000\n",
      "Train Loss: 0.5646682977676392\n",
      "Validation Loss:0.5504401922225952\n",
      "Saving checkpoint to out/bert_ckpt_train.pt\n"
     ]
    },
    {
     "name": "stderr",
     "output_type": "stream",
     "text": [
      " 13%|█▎        | 40003/300000 [42:33<44:54:45,  1.61it/s] "
     ]
    },
    {
     "name": "stdout",
     "output_type": "stream",
     "text": [
      "Step: 40000\n",
      "Train Loss: 0.5973913073539734\n",
      "Validation Loss:0.6216921806335449\n"
     ]
    },
    {
     "name": "stderr",
     "output_type": "stream",
     "text": [
      " 14%|█▍        | 42003/300000 [44:42<44:49:13,  1.60it/s]"
     ]
    },
    {
     "name": "stdout",
     "output_type": "stream",
     "text": [
      "Step: 42000\n",
      "Train Loss: 0.6266039609909058\n",
      "Validation Loss:0.5773576498031616\n"
     ]
    },
    {
     "name": "stderr",
     "output_type": "stream",
     "text": [
      " 15%|█▍        | 44003/300000 [46:49<44:10:48,  1.61it/s]"
     ]
    },
    {
     "name": "stdout",
     "output_type": "stream",
     "text": [
      "Step: 44000\n",
      "Train Loss: 0.5036266446113586\n",
      "Validation Loss:0.6436732411384583\n"
     ]
    },
    {
     "name": "stderr",
     "output_type": "stream",
     "text": [
      " 15%|█▌        | 46003/300000 [48:54<43:47:39,  1.61it/s]"
     ]
    },
    {
     "name": "stdout",
     "output_type": "stream",
     "text": [
      "Step: 46000\n",
      "Train Loss: 0.5928137302398682\n",
      "Validation Loss:0.6320009231567383\n"
     ]
    },
    {
     "name": "stderr",
     "output_type": "stream",
     "text": [
      " 16%|█▌        | 48003/300000 [51:01<45:51:01,  1.53it/s]"
     ]
    },
    {
     "name": "stdout",
     "output_type": "stream",
     "text": [
      "Step: 48000\n",
      "Train Loss: 0.4904387593269348\n",
      "Validation Loss:0.713444709777832\n"
     ]
    },
    {
     "name": "stderr",
     "output_type": "stream",
     "text": [
      " 17%|█▋        | 50003/300000 [53:07<43:01:10,  1.61it/s]"
     ]
    },
    {
     "name": "stdout",
     "output_type": "stream",
     "text": [
      "Step: 50000\n",
      "Train Loss: 0.5920626521110535\n",
      "Validation Loss:0.7506657242774963\n"
     ]
    },
    {
     "name": "stderr",
     "output_type": "stream",
     "text": [
      " 17%|█▋        | 52003/300000 [55:13<42:50:08,  1.61it/s]"
     ]
    },
    {
     "name": "stdout",
     "output_type": "stream",
     "text": [
      "Step: 52000\n",
      "Train Loss: 0.5396454334259033\n",
      "Validation Loss:0.6250673532485962\n"
     ]
    },
    {
     "name": "stderr",
     "output_type": "stream",
     "text": [
      " 18%|█▊        | 54003/300000 [57:18<42:38:43,  1.60it/s]"
     ]
    },
    {
     "name": "stdout",
     "output_type": "stream",
     "text": [
      "Step: 54000\n",
      "Train Loss: 0.5341496467590332\n",
      "Validation Loss:0.5551284551620483\n"
     ]
    },
    {
     "name": "stderr",
     "output_type": "stream",
     "text": [
      " 19%|█▊        | 56003/300000 [59:24<42:11:27,  1.61it/s]"
     ]
    },
    {
     "name": "stdout",
     "output_type": "stream",
     "text": [
      "Step: 56000\n",
      "Train Loss: 0.7520700097084045\n",
      "Validation Loss:0.5815581679344177\n"
     ]
    },
    {
     "name": "stderr",
     "output_type": "stream",
     "text": [
      " 19%|█▉        | 57999/300000 [1:01:24<3:51:39, 17.41it/s]"
     ]
    },
    {
     "name": "stdout",
     "output_type": "stream",
     "text": [
      "Step: 58000\n",
      "Train Loss: 0.6114374399185181\n",
      "Validation Loss:0.5423187017440796\n",
      "Saving checkpoint to out/bert_ckpt_train.pt\n"
     ]
    },
    {
     "name": "stderr",
     "output_type": "stream",
     "text": [
      " 20%|██        | 60003/300000 [1:03:39<41:15:40,  1.62it/s]"
     ]
    },
    {
     "name": "stdout",
     "output_type": "stream",
     "text": [
      "Step: 60000\n",
      "Train Loss: 0.5535390973091125\n",
      "Validation Loss:0.6691470742225647\n"
     ]
    },
    {
     "name": "stderr",
     "output_type": "stream",
     "text": [
      " 21%|██        | 62003/300000 [1:05:46<43:32:07,  1.52it/s]"
     ]
    },
    {
     "name": "stdout",
     "output_type": "stream",
     "text": [
      "Step: 62000\n",
      "Train Loss: 0.605380117893219\n",
      "Validation Loss:0.7054019570350647\n"
     ]
    },
    {
     "name": "stderr",
     "output_type": "stream",
     "text": [
      " 21%|██▏       | 64003/300000 [1:07:53<42:52:36,  1.53it/s]"
     ]
    },
    {
     "name": "stdout",
     "output_type": "stream",
     "text": [
      "Step: 64000\n",
      "Train Loss: 0.5070094466209412\n",
      "Validation Loss:0.5917572379112244\n"
     ]
    },
    {
     "name": "stderr",
     "output_type": "stream",
     "text": [
      " 22%|██▏       | 66003/300000 [1:09:59<40:26:25,  1.61it/s]"
     ]
    },
    {
     "name": "stdout",
     "output_type": "stream",
     "text": [
      "Step: 66000\n",
      "Train Loss: 0.6413533091545105\n",
      "Validation Loss:0.5636429190635681\n"
     ]
    },
    {
     "name": "stderr",
     "output_type": "stream",
     "text": [
      " 23%|██▎       | 67999/300000 [1:11:58<3:47:00, 17.03it/s] "
     ]
    },
    {
     "name": "stdout",
     "output_type": "stream",
     "text": [
      "Step: 68000\n",
      "Train Loss: 0.519533097743988\n",
      "Validation Loss:0.5364391803741455\n",
      "Saving checkpoint to out/bert_ckpt_train.pt\n"
     ]
    },
    {
     "name": "stderr",
     "output_type": "stream",
     "text": [
      " 23%|██▎       | 70003/300000 [1:14:15<41:44:10,  1.53it/s]"
     ]
    },
    {
     "name": "stdout",
     "output_type": "stream",
     "text": [
      "Step: 70000\n",
      "Train Loss: 0.4837356507778168\n",
      "Validation Loss:0.6066639423370361\n"
     ]
    },
    {
     "name": "stderr",
     "output_type": "stream",
     "text": [
      " 24%|██▍       | 72003/300000 [1:16:23<41:05:47,  1.54it/s]"
     ]
    },
    {
     "name": "stdout",
     "output_type": "stream",
     "text": [
      "Step: 72000\n",
      "Train Loss: 0.5611888766288757\n",
      "Validation Loss:0.554851233959198\n"
     ]
    },
    {
     "name": "stderr",
     "output_type": "stream",
     "text": [
      " 25%|██▍       | 74003/300000 [1:18:30<39:13:42,  1.60it/s]"
     ]
    },
    {
     "name": "stdout",
     "output_type": "stream",
     "text": [
      "Step: 74000\n",
      "Train Loss: 0.6362836956977844\n",
      "Validation Loss:0.5548858642578125\n"
     ]
    },
    {
     "name": "stderr",
     "output_type": "stream",
     "text": [
      " 25%|██▌       | 76003/300000 [1:20:38<40:47:00,  1.53it/s]"
     ]
    },
    {
     "name": "stdout",
     "output_type": "stream",
     "text": [
      "Step: 76000\n",
      "Train Loss: 0.6098135709762573\n",
      "Validation Loss:0.5994907021522522\n"
     ]
    },
    {
     "name": "stderr",
     "output_type": "stream",
     "text": [
      " 26%|██▌       | 78003/300000 [1:22:43<38:21:22,  1.61it/s]"
     ]
    },
    {
     "name": "stdout",
     "output_type": "stream",
     "text": [
      "Step: 78000\n",
      "Train Loss: 0.7299414873123169\n",
      "Validation Loss:0.5772035717964172\n"
     ]
    },
    {
     "name": "stderr",
     "output_type": "stream",
     "text": [
      " 27%|██▋       | 80003/300000 [1:24:49<38:23:19,  1.59it/s]"
     ]
    },
    {
     "name": "stdout",
     "output_type": "stream",
     "text": [
      "Step: 80000\n",
      "Train Loss: 0.537574291229248\n",
      "Validation Loss:0.6231258511543274\n"
     ]
    },
    {
     "name": "stderr",
     "output_type": "stream",
     "text": [
      " 27%|██▋       | 81999/300000 [1:26:50<3:40:11, 16.50it/s] "
     ]
    },
    {
     "name": "stdout",
     "output_type": "stream",
     "text": [
      "Step: 82000\n",
      "Train Loss: 0.590459942817688\n",
      "Validation Loss:0.528691828250885\n",
      "Saving checkpoint to out/bert_ckpt_train.pt\n"
     ]
    },
    {
     "name": "stderr",
     "output_type": "stream",
     "text": [
      " 28%|██▊       | 83999/300000 [1:29:00<3:27:31, 17.35it/s] "
     ]
    },
    {
     "name": "stdout",
     "output_type": "stream",
     "text": [
      "Step: 84000\n",
      "Train Loss: 0.4251180589199066\n",
      "Validation Loss:0.4893195629119873\n",
      "Saving checkpoint to out/bert_ckpt_train.pt\n"
     ]
    },
    {
     "name": "stderr",
     "output_type": "stream",
     "text": [
      " 29%|██▊       | 85999/300000 [1:31:09<3:27:06, 17.22it/s] "
     ]
    },
    {
     "name": "stdout",
     "output_type": "stream",
     "text": [
      "Step: 86000\n",
      "Train Loss: 0.5405653715133667\n",
      "Validation Loss:0.4811805486679077\n",
      "Saving checkpoint to out/bert_ckpt_train.pt\n"
     ]
    },
    {
     "name": "stderr",
     "output_type": "stream",
     "text": [
      " 29%|██▉       | 88003/300000 [1:33:25<36:36:48,  1.61it/s]"
     ]
    },
    {
     "name": "stdout",
     "output_type": "stream",
     "text": [
      "Step: 88000\n",
      "Train Loss: 0.5389195680618286\n",
      "Validation Loss:0.6535629034042358\n"
     ]
    },
    {
     "name": "stderr",
     "output_type": "stream",
     "text": [
      " 30%|███       | 90003/300000 [1:35:31<36:09:46,  1.61it/s]"
     ]
    },
    {
     "name": "stdout",
     "output_type": "stream",
     "text": [
      "Step: 90000\n",
      "Train Loss: 0.5466469526290894\n",
      "Validation Loss:0.6481184959411621\n"
     ]
    },
    {
     "name": "stderr",
     "output_type": "stream",
     "text": [
      " 31%|███       | 92003/300000 [1:37:36<35:59:17,  1.61it/s]"
     ]
    },
    {
     "name": "stdout",
     "output_type": "stream",
     "text": [
      "Step: 92000\n",
      "Train Loss: 0.49778544902801514\n",
      "Validation Loss:0.6464508175849915\n"
     ]
    },
    {
     "name": "stderr",
     "output_type": "stream",
     "text": [
      " 31%|███▏      | 94003/300000 [1:39:42<35:21:13,  1.62it/s]"
     ]
    },
    {
     "name": "stdout",
     "output_type": "stream",
     "text": [
      "Step: 94000\n",
      "Train Loss: 0.4770573675632477\n",
      "Validation Loss:0.5983986258506775\n"
     ]
    },
    {
     "name": "stderr",
     "output_type": "stream",
     "text": [
      " 32%|███▏      | 96003/300000 [1:41:48<36:44:47,  1.54it/s]"
     ]
    },
    {
     "name": "stdout",
     "output_type": "stream",
     "text": [
      "Step: 96000\n",
      "Train Loss: 0.5423885583877563\n",
      "Validation Loss:0.5649168491363525\n"
     ]
    },
    {
     "name": "stderr",
     "output_type": "stream",
     "text": [
      " 33%|███▎      | 98003/300000 [1:43:54<34:45:10,  1.61it/s]"
     ]
    },
    {
     "name": "stdout",
     "output_type": "stream",
     "text": [
      "Step: 98000\n",
      "Train Loss: 0.5822342038154602\n",
      "Validation Loss:0.49053552746772766\n"
     ]
    },
    {
     "name": "stderr",
     "output_type": "stream",
     "text": [
      " 33%|███▎      | 100003/300000 [1:45:59<34:28:06,  1.61it/s]"
     ]
    },
    {
     "name": "stdout",
     "output_type": "stream",
     "text": [
      "Step: 100000\n",
      "Train Loss: 0.5399509072303772\n",
      "Validation Loss:0.5416966080665588\n"
     ]
    },
    {
     "name": "stderr",
     "output_type": "stream",
     "text": [
      " 34%|███▍      | 102003/300000 [1:48:04<34:11:03,  1.61it/s]"
     ]
    },
    {
     "name": "stdout",
     "output_type": "stream",
     "text": [
      "Step: 102000\n",
      "Train Loss: 0.5697510242462158\n",
      "Validation Loss:0.6018663048744202\n"
     ]
    },
    {
     "name": "stderr",
     "output_type": "stream",
     "text": [
      " 35%|███▍      | 104003/300000 [1:50:10<33:48:21,  1.61it/s]"
     ]
    },
    {
     "name": "stdout",
     "output_type": "stream",
     "text": [
      "Step: 104000\n",
      "Train Loss: 0.5953311920166016\n",
      "Validation Loss:0.49249008297920227\n"
     ]
    },
    {
     "name": "stderr",
     "output_type": "stream",
     "text": [
      " 35%|███▌      | 105999/300000 [1:52:13<3:14:12, 16.65it/s] "
     ]
    },
    {
     "name": "stdout",
     "output_type": "stream",
     "text": [
      "Step: 106000\n",
      "Train Loss: 0.472395658493042\n",
      "Validation Loss:0.46317899227142334\n",
      "Saving checkpoint to out/bert_ckpt_train.pt\n"
     ]
    },
    {
     "name": "stderr",
     "output_type": "stream",
     "text": [
      " 36%|███▌      | 108003/300000 [1:54:30<33:08:09,  1.61it/s]"
     ]
    },
    {
     "name": "stdout",
     "output_type": "stream",
     "text": [
      "Step: 108000\n",
      "Train Loss: 0.5688108801841736\n",
      "Validation Loss:0.5664777755737305\n"
     ]
    },
    {
     "name": "stderr",
     "output_type": "stream",
     "text": [
      " 37%|███▋      | 110003/300000 [1:56:35<32:43:28,  1.61it/s]"
     ]
    },
    {
     "name": "stdout",
     "output_type": "stream",
     "text": [
      "Step: 110000\n",
      "Train Loss: 0.5071233510971069\n",
      "Validation Loss:0.6206128001213074\n"
     ]
    },
    {
     "name": "stderr",
     "output_type": "stream",
     "text": [
      " 37%|███▋      | 112003/300000 [1:58:41<32:29:10,  1.61it/s]"
     ]
    },
    {
     "name": "stdout",
     "output_type": "stream",
     "text": [
      "Step: 112000\n",
      "Train Loss: 0.5266244411468506\n",
      "Validation Loss:0.570122241973877\n"
     ]
    },
    {
     "name": "stderr",
     "output_type": "stream",
     "text": [
      " 38%|███▊      | 113999/300000 [2:00:41<2:57:55, 17.42it/s] "
     ]
    },
    {
     "name": "stdout",
     "output_type": "stream",
     "text": [
      "Step: 114000\n",
      "Train Loss: 0.5468488335609436\n",
      "Validation Loss:0.44948625564575195\n",
      "Saving checkpoint to out/bert_ckpt_train.pt\n"
     ]
    },
    {
     "name": "stderr",
     "output_type": "stream",
     "text": [
      " 39%|███▊      | 116003/300000 [2:02:56<31:34:25,  1.62it/s]"
     ]
    },
    {
     "name": "stdout",
     "output_type": "stream",
     "text": [
      "Step: 116000\n",
      "Train Loss: 0.5297086834907532\n",
      "Validation Loss:0.5638591051101685\n"
     ]
    },
    {
     "name": "stderr",
     "output_type": "stream",
     "text": [
      " 39%|███▉      | 118003/300000 [2:05:02<31:35:01,  1.60it/s]"
     ]
    },
    {
     "name": "stdout",
     "output_type": "stream",
     "text": [
      "Step: 118000\n",
      "Train Loss: 0.4632229208946228\n",
      "Validation Loss:0.5348275303840637\n"
     ]
    },
    {
     "name": "stderr",
     "output_type": "stream",
     "text": [
      " 40%|████      | 120003/300000 [2:07:09<31:31:16,  1.59it/s]"
     ]
    },
    {
     "name": "stdout",
     "output_type": "stream",
     "text": [
      "Step: 120000\n",
      "Train Loss: 0.5314221978187561\n",
      "Validation Loss:0.4886157810688019\n"
     ]
    },
    {
     "name": "stderr",
     "output_type": "stream",
     "text": [
      " 41%|████      | 122003/300000 [2:09:16<32:11:08,  1.54it/s]"
     ]
    },
    {
     "name": "stdout",
     "output_type": "stream",
     "text": [
      "Step: 122000\n",
      "Train Loss: 0.49538856744766235\n",
      "Validation Loss:0.5237554907798767\n"
     ]
    },
    {
     "name": "stderr",
     "output_type": "stream",
     "text": [
      " 41%|████▏     | 124003/300000 [2:11:22<30:23:33,  1.61it/s]"
     ]
    },
    {
     "name": "stdout",
     "output_type": "stream",
     "text": [
      "Step: 124000\n",
      "Train Loss: 0.46839937567710876\n",
      "Validation Loss:0.4775594472885132\n"
     ]
    },
    {
     "name": "stderr",
     "output_type": "stream",
     "text": [
      " 42%|████▏     | 126003/300000 [2:13:27<30:06:12,  1.61it/s]"
     ]
    },
    {
     "name": "stdout",
     "output_type": "stream",
     "text": [
      "Step: 126000\n",
      "Train Loss: 0.5157274603843689\n",
      "Validation Loss:0.5575260519981384\n"
     ]
    },
    {
     "name": "stderr",
     "output_type": "stream",
     "text": [
      " 43%|████▎     | 128003/300000 [2:15:33<29:41:46,  1.61it/s]"
     ]
    },
    {
     "name": "stdout",
     "output_type": "stream",
     "text": [
      "Step: 128000\n",
      "Train Loss: 0.5392510294914246\n",
      "Validation Loss:0.5697758793830872\n"
     ]
    },
    {
     "name": "stderr",
     "output_type": "stream",
     "text": [
      " 43%|████▎     | 130003/300000 [2:17:38<29:28:15,  1.60it/s]"
     ]
    },
    {
     "name": "stdout",
     "output_type": "stream",
     "text": [
      "Step: 130000\n",
      "Train Loss: 0.5199003219604492\n",
      "Validation Loss:0.5549852252006531\n"
     ]
    },
    {
     "name": "stderr",
     "output_type": "stream",
     "text": [
      " 44%|████▍     | 132003/300000 [2:19:44<28:52:27,  1.62it/s]"
     ]
    },
    {
     "name": "stdout",
     "output_type": "stream",
     "text": [
      "Step: 132000\n",
      "Train Loss: 0.4762638807296753\n",
      "Validation Loss:0.565432071685791\n"
     ]
    },
    {
     "name": "stderr",
     "output_type": "stream",
     "text": [
      " 45%|████▍     | 134003/300000 [2:21:49<28:34:43,  1.61it/s]"
     ]
    },
    {
     "name": "stdout",
     "output_type": "stream",
     "text": [
      "Step: 134000\n",
      "Train Loss: 0.42055419087409973\n",
      "Validation Loss:0.63033527135849\n"
     ]
    },
    {
     "name": "stderr",
     "output_type": "stream",
     "text": [
      " 45%|████▌     | 136003/300000 [2:23:58<29:49:55,  1.53it/s]"
     ]
    },
    {
     "name": "stdout",
     "output_type": "stream",
     "text": [
      "Step: 136000\n",
      "Train Loss: 0.4456484615802765\n",
      "Validation Loss:0.543994128704071\n"
     ]
    },
    {
     "name": "stderr",
     "output_type": "stream",
     "text": [
      " 46%|████▌     | 137999/300000 [2:25:58<2:36:21, 17.27it/s] "
     ]
    },
    {
     "name": "stdout",
     "output_type": "stream",
     "text": [
      "Step: 138000\n",
      "Train Loss: 0.5844992995262146\n",
      "Validation Loss:0.44763267040252686\n",
      "Saving checkpoint to out/bert_ckpt_train.pt\n"
     ]
    },
    {
     "name": "stderr",
     "output_type": "stream",
     "text": [
      " 47%|████▋     | 140003/300000 [2:28:14<27:30:07,  1.62it/s]"
     ]
    },
    {
     "name": "stdout",
     "output_type": "stream",
     "text": [
      "Step: 140000\n",
      "Train Loss: 0.43185123801231384\n",
      "Validation Loss:0.5387284159660339\n"
     ]
    },
    {
     "name": "stderr",
     "output_type": "stream",
     "text": [
      " 47%|████▋     | 142003/300000 [2:30:21<27:18:20,  1.61it/s]"
     ]
    },
    {
     "name": "stdout",
     "output_type": "stream",
     "text": [
      "Step: 142000\n",
      "Train Loss: 0.5332781076431274\n",
      "Validation Loss:0.5737150311470032\n"
     ]
    },
    {
     "name": "stderr",
     "output_type": "stream",
     "text": [
      " 48%|████▊     | 144003/300000 [2:32:26<28:12:19,  1.54it/s]"
     ]
    },
    {
     "name": "stdout",
     "output_type": "stream",
     "text": [
      "Step: 144000\n",
      "Train Loss: 0.4157370626926422\n",
      "Validation Loss:0.4955263137817383\n"
     ]
    },
    {
     "name": "stderr",
     "output_type": "stream",
     "text": [
      " 49%|████▊     | 146003/300000 [2:34:33<26:40:29,  1.60it/s]"
     ]
    },
    {
     "name": "stdout",
     "output_type": "stream",
     "text": [
      "Step: 146000\n",
      "Train Loss: 0.4471611976623535\n",
      "Validation Loss:0.45860734581947327\n"
     ]
    },
    {
     "name": "stderr",
     "output_type": "stream",
     "text": [
      " 49%|████▉     | 148003/300000 [2:36:39<27:36:16,  1.53it/s]"
     ]
    },
    {
     "name": "stdout",
     "output_type": "stream",
     "text": [
      "Step: 148000\n",
      "Train Loss: 0.4621451497077942\n",
      "Validation Loss:0.4782772362232208\n"
     ]
    },
    {
     "name": "stderr",
     "output_type": "stream",
     "text": [
      " 50%|█████     | 150003/300000 [2:38:47<27:14:16,  1.53it/s]"
     ]
    },
    {
     "name": "stdout",
     "output_type": "stream",
     "text": [
      "Step: 150000\n",
      "Train Loss: 0.5099005699157715\n",
      "Validation Loss:0.5837936401367188\n"
     ]
    },
    {
     "name": "stderr",
     "output_type": "stream",
     "text": [
      " 51%|█████     | 152003/300000 [2:40:55<26:51:33,  1.53it/s]"
     ]
    },
    {
     "name": "stdout",
     "output_type": "stream",
     "text": [
      "Step: 152000\n",
      "Train Loss: 0.5618845820426941\n",
      "Validation Loss:0.4813927114009857\n"
     ]
    },
    {
     "name": "stderr",
     "output_type": "stream",
     "text": [
      " 51%|█████▏    | 154003/300000 [2:43:01<25:16:39,  1.60it/s]"
     ]
    },
    {
     "name": "stdout",
     "output_type": "stream",
     "text": [
      "Step: 154000\n",
      "Train Loss: 0.7395942807197571\n",
      "Validation Loss:0.5811088681221008\n"
     ]
    },
    {
     "name": "stderr",
     "output_type": "stream",
     "text": [
      " 52%|█████▏    | 156003/300000 [2:45:08<24:44:58,  1.62it/s]"
     ]
    },
    {
     "name": "stdout",
     "output_type": "stream",
     "text": [
      "Step: 156000\n",
      "Train Loss: 0.5995473861694336\n",
      "Validation Loss:0.50574791431427\n"
     ]
    },
    {
     "name": "stderr",
     "output_type": "stream",
     "text": [
      " 53%|█████▎    | 158003/300000 [2:47:14<25:45:27,  1.53it/s]"
     ]
    },
    {
     "name": "stdout",
     "output_type": "stream",
     "text": [
      "Step: 158000\n",
      "Train Loss: 0.38471701741218567\n",
      "Validation Loss:0.552077054977417\n"
     ]
    },
    {
     "name": "stderr",
     "output_type": "stream",
     "text": [
      " 53%|█████▎    | 160003/300000 [2:49:19<24:20:40,  1.60it/s]"
     ]
    },
    {
     "name": "stdout",
     "output_type": "stream",
     "text": [
      "Step: 160000\n",
      "Train Loss: 0.44382965564727783\n",
      "Validation Loss:0.5559290051460266\n"
     ]
    },
    {
     "name": "stderr",
     "output_type": "stream",
     "text": [
      " 54%|█████▍    | 162003/300000 [2:51:24<23:57:33,  1.60it/s]"
     ]
    },
    {
     "name": "stdout",
     "output_type": "stream",
     "text": [
      "Step: 162000\n",
      "Train Loss: 0.44400206208229065\n",
      "Validation Loss:0.5312600135803223\n"
     ]
    },
    {
     "name": "stderr",
     "output_type": "stream",
     "text": [
      " 55%|█████▍    | 164003/300000 [2:53:32<23:37:29,  1.60it/s]"
     ]
    },
    {
     "name": "stdout",
     "output_type": "stream",
     "text": [
      "Step: 164000\n",
      "Train Loss: 0.5653117299079895\n",
      "Validation Loss:0.5938172340393066\n"
     ]
    },
    {
     "name": "stderr",
     "output_type": "stream",
     "text": [
      " 55%|█████▌    | 165999/300000 [2:55:31<2:10:00, 17.18it/s] "
     ]
    },
    {
     "name": "stdout",
     "output_type": "stream",
     "text": [
      "Step: 166000\n",
      "Train Loss: 0.41678497195243835\n",
      "Validation Loss:0.43853890895843506\n",
      "Saving checkpoint to out/bert_ckpt_train.pt\n"
     ]
    },
    {
     "name": "stderr",
     "output_type": "stream",
     "text": [
      " 56%|█████▌    | 168003/300000 [2:57:47<22:50:52,  1.60it/s]"
     ]
    },
    {
     "name": "stdout",
     "output_type": "stream",
     "text": [
      "Step: 168000\n",
      "Train Loss: 0.5323543548583984\n",
      "Validation Loss:0.48456576466560364\n"
     ]
    },
    {
     "name": "stderr",
     "output_type": "stream",
     "text": [
      " 57%|█████▋    | 170003/300000 [2:59:53<23:34:09,  1.53it/s]"
     ]
    },
    {
     "name": "stdout",
     "output_type": "stream",
     "text": [
      "Step: 170000\n",
      "Train Loss: 0.48141083121299744\n",
      "Validation Loss:0.5561127066612244\n"
     ]
    },
    {
     "name": "stderr",
     "output_type": "stream",
     "text": [
      " 57%|█████▋    | 172003/300000 [3:01:58<22:12:26,  1.60it/s]"
     ]
    },
    {
     "name": "stdout",
     "output_type": "stream",
     "text": [
      "Step: 172000\n",
      "Train Loss: 0.48937201499938965\n",
      "Validation Loss:0.5604078769683838\n"
     ]
    },
    {
     "name": "stderr",
     "output_type": "stream",
     "text": [
      " 58%|█████▊    | 173999/300000 [3:03:57<2:00:42, 17.40it/s] "
     ]
    },
    {
     "name": "stdout",
     "output_type": "stream",
     "text": [
      "Step: 174000\n",
      "Train Loss: 0.4249516725540161\n",
      "Validation Loss:0.4230937957763672\n",
      "Saving checkpoint to out/bert_ckpt_train.pt\n"
     ]
    },
    {
     "name": "stderr",
     "output_type": "stream",
     "text": [
      " 59%|█████▊    | 176003/300000 [3:06:14<21:26:23,  1.61it/s]"
     ]
    },
    {
     "name": "stdout",
     "output_type": "stream",
     "text": [
      "Step: 176000\n",
      "Train Loss: 0.5146735310554504\n",
      "Validation Loss:0.5022866725921631\n"
     ]
    },
    {
     "name": "stderr",
     "output_type": "stream",
     "text": [
      " 59%|█████▉    | 178003/300000 [3:08:19<20:58:18,  1.62it/s]"
     ]
    },
    {
     "name": "stdout",
     "output_type": "stream",
     "text": [
      "Step: 178000\n",
      "Train Loss: 0.3705000877380371\n",
      "Validation Loss:0.4371287524700165\n"
     ]
    },
    {
     "name": "stderr",
     "output_type": "stream",
     "text": [
      " 60%|██████    | 180003/300000 [3:10:27<21:39:44,  1.54it/s]"
     ]
    },
    {
     "name": "stdout",
     "output_type": "stream",
     "text": [
      "Step: 180000\n",
      "Train Loss: 0.40041303634643555\n",
      "Validation Loss:0.5203750729560852\n"
     ]
    },
    {
     "name": "stderr",
     "output_type": "stream",
     "text": [
      " 61%|██████    | 181999/300000 [3:12:27<1:53:18, 17.36it/s] "
     ]
    },
    {
     "name": "stdout",
     "output_type": "stream",
     "text": [
      "Step: 182000\n",
      "Train Loss: 0.45282745361328125\n",
      "Validation Loss:0.39269232749938965\n",
      "Saving checkpoint to out/bert_ckpt_train.pt\n"
     ]
    },
    {
     "name": "stderr",
     "output_type": "stream",
     "text": [
      " 61%|██████▏   | 184003/300000 [3:14:42<20:05:04,  1.60it/s]"
     ]
    },
    {
     "name": "stdout",
     "output_type": "stream",
     "text": [
      "Step: 184000\n",
      "Train Loss: 0.31684690713882446\n",
      "Validation Loss:0.41984400153160095\n"
     ]
    },
    {
     "name": "stderr",
     "output_type": "stream",
     "text": [
      " 62%|██████▏   | 186003/300000 [3:16:49<20:45:44,  1.53it/s]"
     ]
    },
    {
     "name": "stdout",
     "output_type": "stream",
     "text": [
      "Step: 186000\n",
      "Train Loss: 0.48258960247039795\n",
      "Validation Loss:0.4698801636695862\n"
     ]
    },
    {
     "name": "stderr",
     "output_type": "stream",
     "text": [
      " 63%|██████▎   | 188003/300000 [3:18:57<19:23:03,  1.60it/s]"
     ]
    },
    {
     "name": "stdout",
     "output_type": "stream",
     "text": [
      "Step: 188000\n",
      "Train Loss: 0.4828051030635834\n",
      "Validation Loss:0.4158710241317749\n"
     ]
    },
    {
     "name": "stderr",
     "output_type": "stream",
     "text": [
      " 63%|██████▎   | 190003/300000 [3:21:02<18:58:22,  1.61it/s]"
     ]
    },
    {
     "name": "stdout",
     "output_type": "stream",
     "text": [
      "Step: 190000\n",
      "Train Loss: 0.3151511251926422\n",
      "Validation Loss:0.467922568321228\n"
     ]
    },
    {
     "name": "stderr",
     "output_type": "stream",
     "text": [
      " 64%|██████▍   | 192003/300000 [3:23:10<19:38:02,  1.53it/s]"
     ]
    },
    {
     "name": "stdout",
     "output_type": "stream",
     "text": [
      "Step: 192000\n",
      "Train Loss: 0.4414497911930084\n",
      "Validation Loss:0.4485511779785156\n"
     ]
    },
    {
     "name": "stderr",
     "output_type": "stream",
     "text": [
      " 65%|██████▍   | 194003/300000 [3:25:18<19:17:51,  1.53it/s]"
     ]
    },
    {
     "name": "stdout",
     "output_type": "stream",
     "text": [
      "Step: 194000\n",
      "Train Loss: 0.45568275451660156\n",
      "Validation Loss:0.5416445136070251\n"
     ]
    },
    {
     "name": "stderr",
     "output_type": "stream",
     "text": [
      " 65%|██████▌   | 196003/300000 [3:27:25<18:19:12,  1.58it/s]"
     ]
    },
    {
     "name": "stdout",
     "output_type": "stream",
     "text": [
      "Step: 196000\n",
      "Train Loss: 0.38939914107322693\n",
      "Validation Loss:0.5819482207298279\n"
     ]
    },
    {
     "name": "stderr",
     "output_type": "stream",
     "text": [
      " 66%|██████▌   | 198003/300000 [3:29:31<17:44:31,  1.60it/s]"
     ]
    },
    {
     "name": "stdout",
     "output_type": "stream",
     "text": [
      "Step: 198000\n",
      "Train Loss: 0.4617302715778351\n",
      "Validation Loss:0.5025505423545837\n"
     ]
    },
    {
     "name": "stderr",
     "output_type": "stream",
     "text": [
      " 67%|██████▋   | 200003/300000 [3:31:36<18:06:56,  1.53it/s]"
     ]
    },
    {
     "name": "stdout",
     "output_type": "stream",
     "text": [
      "Step: 200000\n",
      "Train Loss: 0.518556535243988\n",
      "Validation Loss:0.5495485663414001\n"
     ]
    },
    {
     "name": "stderr",
     "output_type": "stream",
     "text": [
      " 67%|██████▋   | 202003/300000 [3:33:42<16:59:21,  1.60it/s]"
     ]
    },
    {
     "name": "stdout",
     "output_type": "stream",
     "text": [
      "Step: 202000\n",
      "Train Loss: 0.4740409255027771\n",
      "Validation Loss:0.5131639242172241\n"
     ]
    },
    {
     "name": "stderr",
     "output_type": "stream",
     "text": [
      " 68%|██████▊   | 204003/300000 [3:35:49<16:27:20,  1.62it/s]"
     ]
    },
    {
     "name": "stdout",
     "output_type": "stream",
     "text": [
      "Step: 204000\n",
      "Train Loss: 0.5001590847969055\n",
      "Validation Loss:0.44082385301589966\n"
     ]
    },
    {
     "name": "stderr",
     "output_type": "stream",
     "text": [
      " 69%|██████▊   | 206003/300000 [3:37:54<16:10:28,  1.61it/s]"
     ]
    },
    {
     "name": "stdout",
     "output_type": "stream",
     "text": [
      "Step: 206000\n",
      "Train Loss: 0.4449859857559204\n",
      "Validation Loss:0.5019554495811462\n"
     ]
    },
    {
     "name": "stderr",
     "output_type": "stream",
     "text": [
      " 69%|██████▉   | 208003/300000 [3:39:59<15:55:12,  1.61it/s]"
     ]
    },
    {
     "name": "stdout",
     "output_type": "stream",
     "text": [
      "Step: 208000\n",
      "Train Loss: 0.39769065380096436\n",
      "Validation Loss:0.4489014744758606\n"
     ]
    },
    {
     "name": "stderr",
     "output_type": "stream",
     "text": [
      " 70%|███████   | 210003/300000 [3:42:04<15:45:02,  1.59it/s]"
     ]
    },
    {
     "name": "stdout",
     "output_type": "stream",
     "text": [
      "Step: 210000\n",
      "Train Loss: 0.43222278356552124\n",
      "Validation Loss:0.6079518795013428\n"
     ]
    },
    {
     "name": "stderr",
     "output_type": "stream",
     "text": [
      " 71%|███████   | 212003/300000 [3:44:09<15:12:55,  1.61it/s]"
     ]
    },
    {
     "name": "stdout",
     "output_type": "stream",
     "text": [
      "Step: 212000\n",
      "Train Loss: 0.42072024941444397\n",
      "Validation Loss:0.4374060034751892\n"
     ]
    },
    {
     "name": "stderr",
     "output_type": "stream",
     "text": [
      " 71%|███████▏  | 214003/300000 [3:46:16<14:50:13,  1.61it/s]"
     ]
    },
    {
     "name": "stdout",
     "output_type": "stream",
     "text": [
      "Step: 214000\n",
      "Train Loss: 0.3950793445110321\n",
      "Validation Loss:0.4925355315208435\n"
     ]
    },
    {
     "name": "stderr",
     "output_type": "stream",
     "text": [
      " 72%|███████▏  | 216003/300000 [3:48:22<14:37:56,  1.59it/s]"
     ]
    },
    {
     "name": "stdout",
     "output_type": "stream",
     "text": [
      "Step: 216000\n",
      "Train Loss: 0.41905882954597473\n",
      "Validation Loss:0.5505979657173157\n"
     ]
    },
    {
     "name": "stderr",
     "output_type": "stream",
     "text": [
      " 73%|███████▎  | 218003/300000 [3:50:29<14:14:47,  1.60it/s]"
     ]
    },
    {
     "name": "stdout",
     "output_type": "stream",
     "text": [
      "Step: 218000\n",
      "Train Loss: 0.4071515202522278\n",
      "Validation Loss:0.5404424071311951\n"
     ]
    },
    {
     "name": "stderr",
     "output_type": "stream",
     "text": [
      " 73%|███████▎  | 220003/300000 [3:52:35<13:46:49,  1.61it/s]"
     ]
    },
    {
     "name": "stdout",
     "output_type": "stream",
     "text": [
      "Step: 220000\n",
      "Train Loss: 0.45157790184020996\n",
      "Validation Loss:0.5169483423233032\n"
     ]
    },
    {
     "name": "stderr",
     "output_type": "stream",
     "text": [
      " 74%|███████▍  | 222003/300000 [3:54:41<14:04:48,  1.54it/s]"
     ]
    },
    {
     "name": "stdout",
     "output_type": "stream",
     "text": [
      "Step: 222000\n",
      "Train Loss: 0.3623031675815582\n",
      "Validation Loss:0.51188725233078\n"
     ]
    },
    {
     "name": "stderr",
     "output_type": "stream",
     "text": [
      " 75%|███████▍  | 224003/300000 [3:56:48<13:49:26,  1.53it/s]"
     ]
    },
    {
     "name": "stdout",
     "output_type": "stream",
     "text": [
      "Step: 224000\n",
      "Train Loss: 0.490761399269104\n",
      "Validation Loss:0.5873671770095825\n"
     ]
    },
    {
     "name": "stderr",
     "output_type": "stream",
     "text": [
      " 75%|███████▌  | 226003/300000 [3:58:55<13:30:24,  1.52it/s]"
     ]
    },
    {
     "name": "stdout",
     "output_type": "stream",
     "text": [
      "Step: 226000\n",
      "Train Loss: 0.5747248530387878\n",
      "Validation Loss:0.4937607944011688\n"
     ]
    },
    {
     "name": "stderr",
     "output_type": "stream",
     "text": [
      " 76%|███████▌  | 228003/300000 [4:01:01<12:42:34,  1.57it/s]"
     ]
    },
    {
     "name": "stdout",
     "output_type": "stream",
     "text": [
      "Step: 228000\n",
      "Train Loss: 0.4264153242111206\n",
      "Validation Loss:0.4693658649921417\n"
     ]
    },
    {
     "name": "stderr",
     "output_type": "stream",
     "text": [
      " 77%|███████▋  | 230003/300000 [4:03:08<12:07:08,  1.60it/s]"
     ]
    },
    {
     "name": "stdout",
     "output_type": "stream",
     "text": [
      "Step: 230000\n",
      "Train Loss: 0.47540712356567383\n",
      "Validation Loss:0.4336985647678375\n"
     ]
    },
    {
     "name": "stderr",
     "output_type": "stream",
     "text": [
      " 77%|███████▋  | 232003/300000 [4:05:13<11:47:09,  1.60it/s]"
     ]
    },
    {
     "name": "stdout",
     "output_type": "stream",
     "text": [
      "Step: 232000\n",
      "Train Loss: 0.5265156626701355\n",
      "Validation Loss:0.4431438446044922\n"
     ]
    },
    {
     "name": "stderr",
     "output_type": "stream",
     "text": [
      " 78%|███████▊  | 234003/300000 [4:07:18<11:20:40,  1.62it/s]"
     ]
    },
    {
     "name": "stdout",
     "output_type": "stream",
     "text": [
      "Step: 234000\n",
      "Train Loss: 0.45441383123397827\n",
      "Validation Loss:0.42819324135780334\n"
     ]
    },
    {
     "name": "stderr",
     "output_type": "stream",
     "text": [
      " 79%|███████▊  | 236003/300000 [4:09:25<11:40:50,  1.52it/s]"
     ]
    },
    {
     "name": "stdout",
     "output_type": "stream",
     "text": [
      "Step: 236000\n",
      "Train Loss: 0.4560371935367584\n",
      "Validation Loss:0.4268049895763397\n"
     ]
    },
    {
     "name": "stderr",
     "output_type": "stream",
     "text": [
      " 79%|███████▉  | 238003/300000 [4:11:31<10:45:36,  1.60it/s]"
     ]
    },
    {
     "name": "stdout",
     "output_type": "stream",
     "text": [
      "Step: 238000\n",
      "Train Loss: 0.4428126811981201\n",
      "Validation Loss:0.4026949107646942\n"
     ]
    },
    {
     "name": "stderr",
     "output_type": "stream",
     "text": [
      " 80%|████████  | 240003/300000 [4:13:37<10:25:09,  1.60it/s]"
     ]
    },
    {
     "name": "stdout",
     "output_type": "stream",
     "text": [
      "Step: 240000\n",
      "Train Loss: 0.44823363423347473\n",
      "Validation Loss:0.525060772895813\n"
     ]
    },
    {
     "name": "stderr",
     "output_type": "stream",
     "text": [
      " 81%|████████  | 242003/300000 [4:15:44<10:34:27,  1.52it/s]"
     ]
    },
    {
     "name": "stdout",
     "output_type": "stream",
     "text": [
      "Step: 242000\n",
      "Train Loss: 0.4719600975513458\n",
      "Validation Loss:0.6377857327461243\n"
     ]
    },
    {
     "name": "stderr",
     "output_type": "stream",
     "text": [
      " 81%|████████▏ | 244003/300000 [4:17:50<9:53:20,  1.57it/s] "
     ]
    },
    {
     "name": "stdout",
     "output_type": "stream",
     "text": [
      "Step: 244000\n",
      "Train Loss: 0.4381667375564575\n",
      "Validation Loss:0.5474753975868225\n"
     ]
    },
    {
     "name": "stderr",
     "output_type": "stream",
     "text": [
      " 82%|████████▏ | 246003/300000 [4:19:56<9:19:06,  1.61it/s] "
     ]
    },
    {
     "name": "stdout",
     "output_type": "stream",
     "text": [
      "Step: 246000\n",
      "Train Loss: 0.37694475054740906\n",
      "Validation Loss:0.4526347517967224\n"
     ]
    },
    {
     "name": "stderr",
     "output_type": "stream",
     "text": [
      " 83%|████████▎ | 247999/300000 [4:21:57<50:38, 17.11it/s]  "
     ]
    },
    {
     "name": "stdout",
     "output_type": "stream",
     "text": [
      "Step: 248000\n",
      "Train Loss: 0.4402392506599426\n",
      "Validation Loss:0.34450018405914307\n",
      "Saving checkpoint to out/bert_ckpt_train.pt\n"
     ]
    },
    {
     "name": "stderr",
     "output_type": "stream",
     "text": [
      " 83%|████████▎ | 250003/300000 [4:24:12<8:37:24,  1.61it/s] "
     ]
    },
    {
     "name": "stdout",
     "output_type": "stream",
     "text": [
      "Step: 250000\n",
      "Train Loss: 0.43769508600234985\n",
      "Validation Loss:0.49297890067100525\n"
     ]
    },
    {
     "name": "stderr",
     "output_type": "stream",
     "text": [
      " 84%|████████▍ | 252003/300000 [4:26:17<8:20:19,  1.60it/s] "
     ]
    },
    {
     "name": "stdout",
     "output_type": "stream",
     "text": [
      "Step: 252000\n",
      "Train Loss: 0.39479994773864746\n",
      "Validation Loss:0.45552897453308105\n"
     ]
    },
    {
     "name": "stderr",
     "output_type": "stream",
     "text": [
      " 85%|████████▍ | 254003/300000 [4:28:23<7:54:56,  1.61it/s] "
     ]
    },
    {
     "name": "stdout",
     "output_type": "stream",
     "text": [
      "Step: 254000\n",
      "Train Loss: 0.3387233018875122\n",
      "Validation Loss:0.46814265847206116\n"
     ]
    },
    {
     "name": "stderr",
     "output_type": "stream",
     "text": [
      " 85%|████████▌ | 256003/300000 [4:30:28<7:38:24,  1.60it/s] "
     ]
    },
    {
     "name": "stdout",
     "output_type": "stream",
     "text": [
      "Step: 256000\n",
      "Train Loss: 0.4828459322452545\n",
      "Validation Loss:0.5028723478317261\n"
     ]
    },
    {
     "name": "stderr",
     "output_type": "stream",
     "text": [
      " 86%|████████▌ | 258003/300000 [4:32:37<7:37:23,  1.53it/s] "
     ]
    },
    {
     "name": "stdout",
     "output_type": "stream",
     "text": [
      "Step: 258000\n",
      "Train Loss: 0.37815842032432556\n",
      "Validation Loss:0.5255323052406311\n"
     ]
    },
    {
     "name": "stderr",
     "output_type": "stream",
     "text": [
      " 87%|████████▋ | 260003/300000 [4:34:45<6:56:04,  1.60it/s]"
     ]
    },
    {
     "name": "stdout",
     "output_type": "stream",
     "text": [
      "Step: 260000\n",
      "Train Loss: 0.34347862005233765\n",
      "Validation Loss:0.45995596051216125\n"
     ]
    },
    {
     "name": "stderr",
     "output_type": "stream",
     "text": [
      " 87%|████████▋ | 262003/300000 [4:36:51<6:31:39,  1.62it/s]"
     ]
    },
    {
     "name": "stdout",
     "output_type": "stream",
     "text": [
      "Step: 262000\n",
      "Train Loss: 0.4417198896408081\n",
      "Validation Loss:0.540111780166626\n"
     ]
    },
    {
     "name": "stderr",
     "output_type": "stream",
     "text": [
      " 88%|████████▊ | 264003/300000 [4:38:56<6:12:13,  1.61it/s]"
     ]
    },
    {
     "name": "stdout",
     "output_type": "stream",
     "text": [
      "Step: 264000\n",
      "Train Loss: 0.3721959590911865\n",
      "Validation Loss:0.5623093843460083\n"
     ]
    },
    {
     "name": "stderr",
     "output_type": "stream",
     "text": [
      " 89%|████████▊ | 266003/300000 [4:41:02<6:10:44,  1.53it/s]"
     ]
    },
    {
     "name": "stdout",
     "output_type": "stream",
     "text": [
      "Step: 266000\n",
      "Train Loss: 0.43193116784095764\n",
      "Validation Loss:0.46273699402809143\n"
     ]
    },
    {
     "name": "stderr",
     "output_type": "stream",
     "text": [
      " 89%|████████▉ | 268003/300000 [4:43:08<5:49:48,  1.52it/s]"
     ]
    },
    {
     "name": "stdout",
     "output_type": "stream",
     "text": [
      "Step: 268000\n",
      "Train Loss: 0.44425147771835327\n",
      "Validation Loss:0.6195017099380493\n"
     ]
    },
    {
     "name": "stderr",
     "output_type": "stream",
     "text": [
      " 90%|█████████ | 270003/300000 [4:45:14<5:11:54,  1.60it/s]"
     ]
    },
    {
     "name": "stdout",
     "output_type": "stream",
     "text": [
      "Step: 270000\n",
      "Train Loss: 0.3490417003631592\n",
      "Validation Loss:0.46674299240112305\n"
     ]
    },
    {
     "name": "stderr",
     "output_type": "stream",
     "text": [
      " 91%|█████████ | 272003/300000 [4:47:20<4:50:48,  1.60it/s]"
     ]
    },
    {
     "name": "stdout",
     "output_type": "stream",
     "text": [
      "Step: 272000\n",
      "Train Loss: 0.4057326018810272\n",
      "Validation Loss:0.4279691278934479\n"
     ]
    },
    {
     "name": "stderr",
     "output_type": "stream",
     "text": [
      " 91%|█████████▏| 274003/300000 [4:49:27<4:31:04,  1.60it/s]"
     ]
    },
    {
     "name": "stdout",
     "output_type": "stream",
     "text": [
      "Step: 274000\n",
      "Train Loss: 0.6203534603118896\n",
      "Validation Loss:0.5672678351402283\n"
     ]
    },
    {
     "name": "stderr",
     "output_type": "stream",
     "text": [
      " 92%|█████████▏| 276003/300000 [4:51:35<4:09:32,  1.60it/s]"
     ]
    },
    {
     "name": "stdout",
     "output_type": "stream",
     "text": [
      "Step: 276000\n",
      "Train Loss: 0.3652838170528412\n",
      "Validation Loss:0.5374311804771423\n"
     ]
    },
    {
     "name": "stderr",
     "output_type": "stream",
     "text": [
      " 93%|█████████▎| 278003/300000 [4:53:43<3:49:05,  1.60it/s]"
     ]
    },
    {
     "name": "stdout",
     "output_type": "stream",
     "text": [
      "Step: 278000\n",
      "Train Loss: 0.41721415519714355\n",
      "Validation Loss:0.5065081119537354\n"
     ]
    },
    {
     "name": "stderr",
     "output_type": "stream",
     "text": [
      " 93%|█████████▎| 280003/300000 [4:55:48<3:28:10,  1.60it/s]"
     ]
    },
    {
     "name": "stdout",
     "output_type": "stream",
     "text": [
      "Step: 280000\n",
      "Train Loss: 0.4083442687988281\n",
      "Validation Loss:0.47443172335624695\n"
     ]
    },
    {
     "name": "stderr",
     "output_type": "stream",
     "text": [
      " 94%|█████████▍| 281999/300000 [4:57:48<17:08, 17.50it/s]  "
     ]
    },
    {
     "name": "stdout",
     "output_type": "stream",
     "text": [
      "Step: 282000\n",
      "Train Loss: 0.49784544110298157\n",
      "Validation Loss:0.3317492604255676\n",
      "Saving checkpoint to out/bert_ckpt_train.pt\n"
     ]
    },
    {
     "name": "stderr",
     "output_type": "stream",
     "text": [
      " 95%|█████████▍| 284003/300000 [5:00:03<2:45:35,  1.61it/s]"
     ]
    },
    {
     "name": "stdout",
     "output_type": "stream",
     "text": [
      "Step: 284000\n",
      "Train Loss: 0.4849894344806671\n",
      "Validation Loss:0.4857332110404968\n"
     ]
    },
    {
     "name": "stderr",
     "output_type": "stream",
     "text": [
      " 95%|█████████▌| 286003/300000 [5:02:08<2:25:16,  1.61it/s]"
     ]
    },
    {
     "name": "stdout",
     "output_type": "stream",
     "text": [
      "Step: 286000\n",
      "Train Loss: 0.4332057237625122\n",
      "Validation Loss:0.6089721322059631\n"
     ]
    },
    {
     "name": "stderr",
     "output_type": "stream",
     "text": [
      " 96%|█████████▌| 288003/300000 [5:04:14<2:04:45,  1.60it/s]"
     ]
    },
    {
     "name": "stdout",
     "output_type": "stream",
     "text": [
      "Step: 288000\n",
      "Train Loss: 0.4164702594280243\n",
      "Validation Loss:0.5200754404067993\n"
     ]
    },
    {
     "name": "stderr",
     "output_type": "stream",
     "text": [
      " 97%|█████████▋| 290003/300000 [5:06:22<1:49:06,  1.53it/s]"
     ]
    },
    {
     "name": "stdout",
     "output_type": "stream",
     "text": [
      "Step: 290000\n",
      "Train Loss: 0.5124045610427856\n",
      "Validation Loss:0.50863116979599\n"
     ]
    },
    {
     "name": "stderr",
     "output_type": "stream",
     "text": [
      " 97%|█████████▋| 292003/300000 [5:08:29<1:22:54,  1.61it/s]"
     ]
    },
    {
     "name": "stdout",
     "output_type": "stream",
     "text": [
      "Step: 292000\n",
      "Train Loss: 0.3377377390861511\n",
      "Validation Loss:0.6454980373382568\n"
     ]
    },
    {
     "name": "stderr",
     "output_type": "stream",
     "text": [
      " 98%|█████████▊| 294003/300000 [5:10:35<1:01:53,  1.61it/s]"
     ]
    },
    {
     "name": "stdout",
     "output_type": "stream",
     "text": [
      "Step: 294000\n",
      "Train Loss: 0.33839014172554016\n",
      "Validation Loss:0.4385831654071808\n"
     ]
    },
    {
     "name": "stderr",
     "output_type": "stream",
     "text": [
      " 99%|█████████▊| 296003/300000 [5:12:43<43:42,  1.52it/s]  "
     ]
    },
    {
     "name": "stdout",
     "output_type": "stream",
     "text": [
      "Step: 296000\n",
      "Train Loss: 0.483060359954834\n",
      "Validation Loss:0.5036545395851135\n"
     ]
    },
    {
     "name": "stderr",
     "output_type": "stream",
     "text": [
      " 99%|█████████▉| 298003/300000 [5:14:52<21:45,  1.53it/s]"
     ]
    },
    {
     "name": "stdout",
     "output_type": "stream",
     "text": [
      "Step: 298000\n",
      "Train Loss: 0.37724998593330383\n",
      "Validation Loss:0.4879929721355438\n"
     ]
    },
    {
     "name": "stderr",
     "output_type": "stream",
     "text": [
      "100%|██████████| 300000/300000 [5:16:55<00:00, 15.78it/s]\n"
     ]
    }
   ],
   "source": [
    "trainer.train()"
   ]
  },
  {
   "cell_type": "code",
   "execution_count": 5,
   "metadata": {},
   "outputs": [
    {
     "name": "stdout",
     "output_type": "stream",
     "text": [
      "Loading extracted data from /home/varun/Downloads/snli_1.0/sentenceBERT_test.pt\n"
     ]
    },
    {
     "name": "stderr",
     "output_type": "stream",
     "text": [
      "/home/varun/projects/experiments-with-gpt2/rag/snliDataset.py:82: FutureWarning: You are using `torch.load` with `weights_only=False` (the current default value), which uses the default pickle module implicitly. It is possible to construct malicious pickle data which will execute arbitrary code during unpickling (See https://github.com/pytorch/pytorch/blob/main/SECURITY.md#untrusted-models for more details). In a future release, the default value for `weights_only` will be flipped to `True`. This limits the functions that could be executed during unpickling. Arbitrary objects will no longer be allowed to be loaded via this mode unless they are explicitly allowlisted by the user via `torch.serialization.add_safe_globals`. We recommend you start setting `weights_only=True` for any use case where you don't have full control of the loaded file. Please open an issue on GitHub for any issues related to this experimental feature.\n",
      "  self.data = torch.load(cache_fpath)[\"data\"]\n",
      "/tmp/ipykernel_890247/1616182110.py:12: FutureWarning: You are using `torch.load` with `weights_only=False` (the current default value), which uses the default pickle module implicitly. It is possible to construct malicious pickle data which will execute arbitrary code during unpickling (See https://github.com/pytorch/pytorch/blob/main/SECURITY.md#untrusted-models for more details). In a future release, the default value for `weights_only` will be flipped to `True`. This limits the functions that could be executed during unpickling. Arbitrary objects will no longer be allowed to be loaded via this mode unless they are explicitly allowlisted by the user via `torch.serialization.add_safe_globals`. We recommend you start setting `weights_only=True` for any use case where you don't have full control of the loaded file. Please open an issue on GitHub for any issues related to this experimental feature.\n",
      "  ckpt = torch.load(ckpt_path)\n"
     ]
    },
    {
     "name": "stdout",
     "output_type": "stream",
     "text": [
      "Loading pre-trained weights for BERT\n"
     ]
    },
    {
     "ename": "AttributeError",
     "evalue": "'sentence' object has no attribute 'to'",
     "output_type": "error",
     "traceback": [
      "\u001b[0;31m---------------------------------------------------------------------------\u001b[0m",
      "\u001b[0;31mAttributeError\u001b[0m                            Traceback (most recent call last)",
      "Cell \u001b[0;32mIn[5], line 21\u001b[0m\n\u001b[1;32m     19\u001b[0m \u001b[38;5;28;01mwith\u001b[39;00m torch\u001b[38;5;241m.\u001b[39mno_grad():\n\u001b[1;32m     20\u001b[0m     \u001b[38;5;28;01mfor\u001b[39;00m batch \u001b[38;5;129;01min\u001b[39;00m test_loader:\n\u001b[0;32m---> 21\u001b[0m         outputs \u001b[38;5;241m=\u001b[39m model(\u001b[43mbatch\u001b[49m\u001b[43m[\u001b[49m\u001b[38;5;124;43m\"\u001b[39;49m\u001b[38;5;124;43msentence_1\u001b[39;49m\u001b[38;5;124;43m\"\u001b[39;49m\u001b[43m]\u001b[49m\u001b[38;5;241;43m.\u001b[39;49m\u001b[43mto\u001b[49m(device), batch[\u001b[38;5;124m\"\u001b[39m\u001b[38;5;124msentence_2\u001b[39m\u001b[38;5;124m\"\u001b[39m]\u001b[38;5;241m.\u001b[39mto(device))\n\u001b[1;32m     22\u001b[0m         _, predicted \u001b[38;5;241m=\u001b[39m torch\u001b[38;5;241m.\u001b[39mmax(outputs, \u001b[38;5;241m1\u001b[39m)\n\u001b[1;32m     23\u001b[0m         \u001b[38;5;66;03m# print(predicted, batch[\"label\"])\u001b[39;00m\n",
      "\u001b[0;31mAttributeError\u001b[0m: 'sentence' object has no attribute 'to'"
     ]
    }
   ],
   "source": [
    "# Evaluation\n",
    "import torch\n",
    "from rag.snliDataset import sentenceBERTDataset\n",
    "from bert_config import BERTConfig, BERTTrainConfig\n",
    "from sentenceBERT import sentenceBERT\n",
    "from torch.utils.data.dataloader import DataLoader\n",
    "from bert_utils import dynamic_padding\n",
    "\n",
    "device = \"cuda\"\n",
    "test_set = sentenceBERTDataset(\"test\")\n",
    "ckpt_path = \"out/bert_ckpt_train.pt\"\n",
    "ckpt = torch.load(ckpt_path)\n",
    "model = sentenceBERT(BERTConfig())\n",
    "model.load_state_dict(ckpt[\"model\"])\n",
    "model.to(device)\n",
    "\n",
    "correct, total = 0, 0\n",
    "test_loader = DataLoader(test_set,batch_size=8,collate_fn=dynamic_padding)\n",
    "with torch.no_grad():\n",
    "    for batch in test_loader:\n",
    "        outputs = model(batch[\"sentence_1\"],batch[\"sentence_2\"])\n",
    "        _, predicted = torch.max(outputs, 1)\n",
    "        # print(predicted, batch[\"label\"])\n",
    "        total += batch[\"label\"].size(0)\n",
    "        correct += (predicted == batch[\"label\"].to(device)).sum().item()\n",
    "    \n",
    "print(f\"Test Accuracy: {100 * correct / total:.2f}%\")"
   ]
  }
 ],
 "metadata": {
  "kernelspec": {
   "display_name": ".venv",
   "language": "python",
   "name": "python3"
  },
  "language_info": {
   "codemirror_mode": {
    "name": "ipython",
    "version": 3
   },
   "file_extension": ".py",
   "mimetype": "text/x-python",
   "name": "python",
   "nbconvert_exporter": "python",
   "pygments_lexer": "ipython3",
   "version": "3.12.7"
  }
 },
 "nbformat": 4,
 "nbformat_minor": 2
}
