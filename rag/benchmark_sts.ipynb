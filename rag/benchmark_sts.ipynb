{
 "cells": [
  {
   "cell_type": "markdown",
   "metadata": {},
   "source": [
    "# Semantic Text Similarity Benchmark\n",
    "\n",
    "1. Baseline BERT\n",
    "2. SBERT (Sentence BERT)\n",
    "\n",
    "Reproduce the results from the Sentence BERT paper"
   ]
  },
  {
   "cell_type": "code",
   "execution_count": 1,
   "metadata": {},
   "outputs": [],
   "source": [
    "import sys\n",
    "sys.path.append(\"/home/varun/projects/experiments-with-gpt2/\")\n",
    "from bert_utils import dynamic_padding\n",
    "from bert import BERT\n",
    "from bert_config import BERTConfig\n",
    "import torch\n",
    "from tqdm import tqdm\n",
    "from torch.utils.data.dataloader import DataLoader\n",
    "from datasets import load_dataset\n",
    "dataset = load_dataset('sentence-transformers/stsb')\n"
   ]
  },
  {
   "cell_type": "code",
   "execution_count": 2,
   "metadata": {},
   "outputs": [],
   "source": [
    "# BERT embeddings for sentence1 and sentence2\n",
    "from scipy.stats import spearmanr\n",
    "\n",
    "device = \"cuda\"\n",
    "def calculate_spearmanr_correlation(model):\n",
    "    test_set = dataset[\"test\"]\n",
    "    model.to(device)\n",
    "    cos = torch.nn.CosineSimilarity()\n",
    "    sim_scores = torch.zeros(len(test_set))\n",
    "    batch_size = 16\n",
    "    dl = DataLoader(test_set,batch_size=batch_size,collate_fn=dynamic_padding)\n",
    "    with torch.no_grad():\n",
    "        for i,data in enumerate(tqdm(dl)):\n",
    "            s1_embedding = model.bert(data['sentence1'].input_ids.to(device),\n",
    "                                data['sentence1'].token_type_ids.to(device),\n",
    "                                data['sentence1'].attention_mask.to(device))\n",
    "            s2_embedding = model.bert(data['sentence2'].input_ids.to(device),\n",
    "                                data['sentence2'].token_type_ids.to(device),\n",
    "                                data['sentence2'].attention_mask.to(device))\n",
    "            sim_scores[batch_size*i:min(len(test_set),batch_size*(i+1))] = cos(s1_embedding,s2_embedding)\n",
    "    gt_scores = [item[\"score\"] for item in test_set]\n",
    "    return spearmanr(gt_scores,sim_scores.tolist()).statistic"
   ]
  },
  {
   "cell_type": "code",
   "execution_count": 3,
   "metadata": {},
   "outputs": [
    {
     "name": "stderr",
     "output_type": "stream",
     "text": [
      "/tmp/ipykernel_1368129/179939063.py:6: FutureWarning: You are using `torch.load` with `weights_only=False` (the current default value), which uses the default pickle module implicitly. It is possible to construct malicious pickle data which will execute arbitrary code during unpickling (See https://github.com/pytorch/pytorch/blob/main/SECURITY.md#untrusted-models for more details). In a future release, the default value for `weights_only` will be flipped to `True`. This limits the functions that could be executed during unpickling. Arbitrary objects will no longer be allowed to be loaded via this mode unless they are explicitly allowlisted by the user via `torch.serialization.add_safe_globals`. We recommend you start setting `weights_only=True` for any use case where you don't have full control of the loaded file. Please open an issue on GitHub for any issues related to this experimental feature.\n",
      "  ckpt = torch.load(ckpt_path)\n"
     ]
    },
    {
     "name": "stdout",
     "output_type": "stream",
     "text": [
      "Loading pre-trained weights for bert\n"
     ]
    },
    {
     "name": "stderr",
     "output_type": "stream",
     "text": [
      "100%|██████████| 87/87 [00:04<00:00, 18.86it/s]\n"
     ]
    },
    {
     "name": "stdout",
     "output_type": "stream",
     "text": [
      "0.7460946033571232\n"
     ]
    }
   ],
   "source": [
    "# Spearman rank correlation\n",
    "import torch\n",
    "from sentenceBERT import sentenceBERT\n",
    "# model = BERT.from_pretrained(BERTConfig())\n",
    "ckpt_path = \"out/bert_ckpt_train.pt\"\n",
    "ckpt = torch.load(ckpt_path)\n",
    "model_config = BERTConfig(**ckpt[\"model_config\"])\n",
    "model = sentenceBERT(model_config)\n",
    "model.load_state_dict(ckpt[\"model\"])\n",
    "print(calculate_spearmanr_correlation(model))"
   ]
  },
  {
   "cell_type": "markdown",
   "metadata": {},
   "source": [
    "| Model                 | Spearman's Correlation coefficient    |\n",
    ":-----------------      | :-------:|\n",
    "| BERT -CLS embedding   | 0.2030                                  |\n",
    "| Avg BERT Embeddings   | 0.4693 |\n",
    "| SBERT pretrained on SNLI | 0.7057 |\n",
    "| SBERT pretrained on SNLI + MultiNLI | 0.7460 |"
   ]
  },
  {
   "cell_type": "code",
   "execution_count": null,
   "metadata": {},
   "outputs": [],
   "source": []
  }
 ],
 "metadata": {
  "kernelspec": {
   "display_name": ".venv",
   "language": "python",
   "name": "python3"
  },
  "language_info": {
   "codemirror_mode": {
    "name": "ipython",
    "version": 3
   },
   "file_extension": ".py",
   "mimetype": "text/x-python",
   "name": "python",
   "nbconvert_exporter": "python",
   "pygments_lexer": "ipython3",
   "version": "3.12.7"
  }
 },
 "nbformat": 4,
 "nbformat_minor": 2
}
