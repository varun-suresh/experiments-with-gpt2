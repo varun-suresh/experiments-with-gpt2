{
 "cells": [
  {
   "cell_type": "code",
   "execution_count": 1,
   "metadata": {},
   "outputs": [],
   "source": [
    "import torch\n",
    "from cifar10 import cifar10\n",
    "from matplotlib import pyplot as plt\n",
    "from torchvision.transforms.functional import pil_to_tensor\n",
    "import random\n",
    "dataset = cifar10(\"train\")\n",
    "# mean_img = torch.zeros((3,32,32))\n",
    "# for item in dataset:\n",
    "#     img = item[\"img\"]\n",
    "\n",
    "#     # plt.imshow(img)\n",
    "#     # plt.show()\n",
    "#     img = pil_to_tensor(img)\n",
    "#     mean_img += img\n",
    "#     # print(img.size())\n",
    "#     break\n"
   ]
  },
  {
   "cell_type": "code",
   "execution_count": 2,
   "metadata": {},
   "outputs": [
    {
     "name": "stderr",
     "output_type": "stream",
     "text": [
      "Clipping input data to the valid range for imshow with RGB data ([0..1] for floats or [0..255] for integers). Got range [-1.7699728..1.7390381].\n"
     ]
    },
    {
     "name": "stdout",
     "output_type": "stream",
     "text": [
      "tensor([0.4914, 0.4822, 0.4465])\n",
      "tensor([[[ 0.0000,  0.0000,  0.0000,  ...,  0.0000,  0.0000,  0.0000],\n",
      "         [ 0.0000,  0.0000,  0.0000,  ...,  0.0000,  0.0000,  0.0000],\n",
      "         [ 0.0000,  0.0000,  0.0000,  ...,  0.0000,  0.0000,  0.0000],\n",
      "         ...,\n",
      "         [-0.0641, -0.2192, -0.7038,  ...,  0.4787,  0.0000,  0.0000],\n",
      "         [-0.0059,  0.1491, -0.0835,  ..., -0.1223,  0.0000,  0.0000],\n",
      "         [-0.5487, -0.5487, -0.3549,  ..., -0.1223,  0.0000,  0.0000]],\n",
      "\n",
      "        [[ 0.0000,  0.0000,  0.0000,  ...,  0.0000,  0.0000,  0.0000],\n",
      "         [ 0.0000,  0.0000,  0.0000,  ...,  0.0000,  0.0000,  0.0000],\n",
      "         [ 0.0000,  0.0000,  0.0000,  ...,  0.0000,  0.0000,  0.0000],\n",
      "         ...,\n",
      "         [-0.0580, -0.2154, -0.6874,  ...,  0.5320,  0.0000,  0.0000],\n",
      "         [ 0.0403,  0.1976, -0.0777,  ..., -0.0974,  0.0000,  0.0000],\n",
      "         [-0.4710, -0.4710, -0.3530,  ..., -0.0777,  0.0000,  0.0000]],\n",
      "\n",
      "        [[ 0.0000,  0.0000,  0.0000,  ...,  0.0000,  0.0000,  0.0000],\n",
      "         [ 0.0000,  0.0000,  0.0000,  ...,  0.0000,  0.0000,  0.0000],\n",
      "         [ 0.0000,  0.0000,  0.0000,  ...,  0.0000,  0.0000,  0.0000],\n",
      "         ...,\n",
      "         [ 0.1977,  0.0416, -0.4266,  ...,  0.8221,  0.0000,  0.0000],\n",
      "         [ 0.2758,  0.4709,  0.2367,  ...,  0.1782,  0.0000,  0.0000],\n",
      "         [-0.1925, -0.1925, -0.0949,  ...,  0.1197,  0.0000,  0.0000]]])\n"
     ]
    },
    {
     "data": {
      "image/png": "[encoded data removed]",
      "text/plain": [
       "<Figure size 640x480 with 1 Axes>"
      ]
     },
     "metadata": {},
     "output_type": "display_data"
    }
   ],
   "source": [
    "rand_idx = random.sample(range(len(dataset)),k=16)\n",
    "class_names = ['airplane','automobile','bird','cat','deer','dog','frog','horse','ship','truck']\n",
    "plt.figure(figsize=(10,10))\n",
    "\n",
    "for i , idx in enumerate(rand_idx):\n",
    "\n",
    "  img , label = dataset[idx]\n",
    "\n",
    "  #the image tensor's range is not between 0 and 1,so we have to temporarily scale the tensor values into range 0 and 1 to prevent error.\n",
    "  img = (img - img.min()) / (img.max() - img.min())\n",
    "\n",
    "  img_class = class_names[label]\n",
    "\n",
    "  plt.subplot(4,4,i+1)\n",
    "  plt.imshow(img.permute(1,2,0))\n",
    "  plt.title(f\"Class : {img_class}\",fontsize=10)\n",
    "  plt.axis(False)\n"
   ]
  },
  {
   "cell_type": "code",
   "execution_count": 1,
   "metadata": {},
   "outputs": [],
   "source": [
    "from torch.utils.data import random_split\n",
    "from cifar10 import cifar10\n",
    "from resnet_config import ResNetConfig, ResNetTrainConfig\n",
    "all_train_data = cifar10(\"train\")\n",
    "train_size = int(0.9*len(all_train_data))\n",
    "val_size = len(all_train_data) - train_size\n",
    "test_set = cifar10(\"test\")\n",
    "train_set, val_set = random_split(all_train_data,[train_size,val_size])\n",
    "train_config = ResNetTrainConfig()\n",
    "model_config = ResNetConfig()\n"
   ]
  },
  {
   "cell_type": "code",
   "execution_count": 2,
   "metadata": {},
   "outputs": [
    {
     "name": "stdout",
     "output_type": "stream",
     "text": [
      "Resuming training from out/resnet/resnet_ckpt_cifar.pt\n"
     ]
    },
    {
     "name": "stderr",
     "output_type": "stream",
     "text": [
      "/home/varun/projects/experiments-with-gpt2/vision_models/train.py:33: FutureWarning: You are using `torch.load` with `weights_only=False` (the current default value), which uses the default pickle module implicitly. It is possible to construct malicious pickle data which will execute arbitrary code during unpickling (See https://github.com/pytorch/pytorch/blob/main/SECURITY.md#untrusted-models for more details). In a future release, the default value for `weights_only` will be flipped to `True`. This limits the functions that could be executed during unpickling. Arbitrary objects will no longer be allowed to be loaded via this mode unless they are explicitly allowlisted by the user via `torch.serialization.add_safe_globals`. We recommend you start setting `weights_only=True` for any use case where you don't have full control of the loaded file. Please open an issue on GitHub for any issues related to this experimental feature.\n",
      "  self.ckpt = torch.load(ckpt_path, map_location=self.train_config.device)\n"
     ]
    },
    {
     "name": "stdout",
     "output_type": "stream",
     "text": [
      "No of parameters in the model: 272464\n"
     ]
    },
    {
     "name": "stderr",
     "output_type": "stream",
     "text": [
      "  0%|          | 0/42000 [00:00<?, ?it/s]/home/varun/projects/experiments-with-gpt2/vision_models/train.py:129: UserWarning: To copy construct from a tensor, it is recommended to use sourceTensor.clone().detach() or sourceTensor.clone().detach().requires_grad_(True), rather than torch.tensor(sourceTensor).\n",
      "  train_loss += self.criterion(train_logits,torch.tensor(train_batch[\"label\"]).to(self.train_config.device))\n",
      "/home/varun/projects/experiments-with-gpt2/vision_models/train.py:148: UserWarning: To copy construct from a tensor, it is recommended to use sourceTensor.clone().detach() or sourceTensor.clone().detach().requires_grad_(True), rather than torch.tensor(sourceTensor).\n",
      "  labels = torch.tensor(batch[\"label\"]).to(self.train_config.device)\n",
      "  0%|          | 1/42000 [00:12<151:07:51, 12.95s/it]"
     ]
    },
    {
     "name": "stdout",
     "output_type": "stream",
     "text": [
      "Step:86000\n",
      "Train Loss:0.31341317296028137\n",
      "Validation Loss:0.30075037479400635\n",
      "Test Error:0.14030003547668457\n"
     ]
    },
    {
     "name": "stderr",
     "output_type": "stream",
     "text": [
      "  5%|▍         | 1998/42000 [01:42<29:45, 22.41it/s] "
     ]
    },
    {
     "name": "stdout",
     "output_type": "stream",
     "text": [
      "Step:88000\n",
      "Train Loss:0.2926238477230072\n",
      "Validation Loss:0.30841484665870667\n",
      "Test Error:0.1323000192642212\n"
     ]
    },
    {
     "name": "stderr",
     "output_type": "stream",
     "text": [
      "  5%|▍         | 2001/42000 [01:56<15:01:56,  1.35s/it]"
     ]
    },
    {
     "name": "stdout",
     "output_type": "stream",
     "text": [
      "Saving checkpoint to out/resnet/resnet_ckpt_cifar.pt\n"
     ]
    },
    {
     "name": "stderr",
     "output_type": "stream",
     "text": [
      " 10%|▉         | 3999/42000 [03:37<28:46, 22.01it/s]   "
     ]
    },
    {
     "name": "stdout",
     "output_type": "stream",
     "text": [
      "Step:90000\n",
      "Train Loss:0.3191036581993103\n",
      "Validation Loss:0.31924325227737427\n",
      "Test Error:0.13260000944137573\n"
     ]
    },
    {
     "name": "stderr",
     "output_type": "stream",
     "text": [
      " 10%|▉         | 4001/42000 [03:39<15:46:33,  1.49s/it]"
     ]
    },
    {
     "name": "stdout",
     "output_type": "stream",
     "text": [
      "Saving checkpoint to out/resnet/resnet_ckpt_cifar.pt\n"
     ]
    },
    {
     "name": "stderr",
     "output_type": "stream",
     "text": [
      " 14%|█▍        | 5999/42000 [05:20<26:52, 22.33it/s]   "
     ]
    },
    {
     "name": "stdout",
     "output_type": "stream",
     "text": [
      "Step:92000\n",
      "Train Loss:0.3317740261554718\n",
      "Validation Loss:0.3643094301223755\n",
      "Test Error:0.1381000280380249\n"
     ]
    },
    {
     "name": "stderr",
     "output_type": "stream",
     "text": [
      " 14%|█▍        | 6001/42000 [05:21<14:54:59,  1.49s/it]"
     ]
    },
    {
     "name": "stdout",
     "output_type": "stream",
     "text": [
      "Saving checkpoint to out/resnet/resnet_ckpt_cifar.pt\n"
     ]
    },
    {
     "name": "stderr",
     "output_type": "stream",
     "text": [
      " 19%|█▉        | 7999/42000 [06:51<25:58, 21.82it/s]   "
     ]
    },
    {
     "name": "stdout",
     "output_type": "stream",
     "text": [
      "Step:94000\n",
      "Train Loss:0.3082822263240814\n",
      "Validation Loss:0.38767507672309875\n",
      "Test Error:0.14090001583099365\n"
     ]
    },
    {
     "name": "stderr",
     "output_type": "stream",
     "text": [
      " 19%|█▉        | 8002/42000 [07:05<12:52:54,  1.36s/it]"
     ]
    },
    {
     "name": "stdout",
     "output_type": "stream",
     "text": [
      "Saving checkpoint to out/resnet/resnet_ckpt_cifar.pt\n"
     ]
    },
    {
     "name": "stderr",
     "output_type": "stream",
     "text": [
      " 24%|██▍       | 10000/42000 [08:34<24:15, 21.99it/s]  "
     ]
    },
    {
     "name": "stdout",
     "output_type": "stream",
     "text": [
      "Step:96000\n",
      "Train Loss:0.3151918053627014\n",
      "Validation Loss:0.3523828089237213\n",
      "Test Error:0.13210004568099976\n"
     ]
    },
    {
     "name": "stderr",
     "output_type": "stream",
     "text": [
      " 24%|██▍       | 10001/42000 [08:48<14:58:59,  1.69s/it]"
     ]
    },
    {
     "name": "stdout",
     "output_type": "stream",
     "text": [
      "Saving checkpoint to out/resnet/resnet_ckpt_cifar.pt\n"
     ]
    },
    {
     "name": "stderr",
     "output_type": "stream",
     "text": [
      " 29%|██▊       | 11999/42000 [10:30<22:31, 22.20it/s]   "
     ]
    },
    {
     "name": "stdout",
     "output_type": "stream",
     "text": [
      "Step:98000\n",
      "Train Loss:0.31736063957214355\n",
      "Validation Loss:0.387339323759079\n",
      "Test Error:0.14110004901885986\n"
     ]
    },
    {
     "name": "stderr",
     "output_type": "stream",
     "text": [
      " 29%|██▊       | 12001/42000 [10:31<12:28:40,  1.50s/it]"
     ]
    },
    {
     "name": "stdout",
     "output_type": "stream",
     "text": [
      "Saving checkpoint to out/resnet/resnet_ckpt_cifar.pt\n"
     ]
    },
    {
     "name": "stderr",
     "output_type": "stream",
     "text": [
      " 33%|███▎      | 13999/42000 [12:00<20:47, 22.45it/s]   "
     ]
    },
    {
     "name": "stdout",
     "output_type": "stream",
     "text": [
      "Step:100000\n",
      "Train Loss:0.3604574501514435\n",
      "Validation Loss:0.424084335565567\n",
      "Test Error:0.14840000867843628\n"
     ]
    },
    {
     "name": "stderr",
     "output_type": "stream",
     "text": [
      " 33%|███▎      | 14002/42000 [12:13<10:27:30,  1.34s/it]"
     ]
    },
    {
     "name": "stdout",
     "output_type": "stream",
     "text": [
      "Saving checkpoint to out/resnet/resnet_ckpt_cifar.pt\n"
     ]
    },
    {
     "name": "stderr",
     "output_type": "stream",
     "text": [
      " 38%|███▊      | 16000/42000 [13:43<19:27, 22.26it/s]   "
     ]
    },
    {
     "name": "stdout",
     "output_type": "stream",
     "text": [
      "Step:102000\n",
      "Train Loss:0.3361474871635437\n",
      "Validation Loss:0.3772505223751068\n",
      "Test Error:0.1420000195503235\n"
     ]
    },
    {
     "name": "stderr",
     "output_type": "stream",
     "text": [
      " 38%|███▊      | 16003/42000 [13:56<9:41:45,  1.34s/it]"
     ]
    },
    {
     "name": "stdout",
     "output_type": "stream",
     "text": [
      "Saving checkpoint to out/resnet/resnet_ckpt_cifar.pt\n"
     ]
    },
    {
     "name": "stderr",
     "output_type": "stream",
     "text": [
      " 43%|████▎     | 17998/42000 [15:37<17:48, 22.46it/s]  "
     ]
    },
    {
     "name": "stdout",
     "output_type": "stream",
     "text": [
      "Step:104000\n",
      "Train Loss:0.28682345151901245\n",
      "Validation Loss:0.35478153824806213\n",
      "Test Error:0.12639999389648438\n"
     ]
    },
    {
     "name": "stderr",
     "output_type": "stream",
     "text": [
      " 43%|████▎     | 18001/42000 [15:38<8:57:06,  1.34s/it]"
     ]
    },
    {
     "name": "stdout",
     "output_type": "stream",
     "text": [
      "Saving checkpoint to out/resnet/resnet_ckpt_cifar.pt\n"
     ]
    },
    {
     "name": "stderr",
     "output_type": "stream",
     "text": [
      " 48%|████▊     | 19999/42000 [17:20<16:23, 22.37it/s]  "
     ]
    },
    {
     "name": "stdout",
     "output_type": "stream",
     "text": [
      "Step:106000\n",
      "Train Loss:0.27693769335746765\n",
      "Validation Loss:0.3707357943058014\n",
      "Test Error:0.13090002536773682\n"
     ]
    },
    {
     "name": "stderr",
     "output_type": "stream",
     "text": [
      " 48%|████▊     | 20001/42000 [17:21<9:05:53,  1.49s/it]"
     ]
    },
    {
     "name": "stdout",
     "output_type": "stream",
     "text": [
      "Saving checkpoint to out/resnet/resnet_ckpt_cifar.pt\n"
     ]
    },
    {
     "name": "stderr",
     "output_type": "stream",
     "text": [
      " 52%|█████▏    | 21999/42000 [18:52<15:06, 22.06it/s]  "
     ]
    },
    {
     "name": "stdout",
     "output_type": "stream",
     "text": [
      "Step:108000\n",
      "Train Loss:0.30927860736846924\n",
      "Validation Loss:0.35372957587242126\n",
      "Test Error:0.13700002431869507\n"
     ]
    },
    {
     "name": "stderr",
     "output_type": "stream",
     "text": [
      " 52%|█████▏    | 22002/42000 [19:05<7:30:15,  1.35s/it]"
     ]
    },
    {
     "name": "stdout",
     "output_type": "stream",
     "text": [
      "Saving checkpoint to out/resnet/resnet_ckpt_cifar.pt\n"
     ]
    },
    {
     "name": "stderr",
     "output_type": "stream",
     "text": [
      " 57%|█████▋    | 24000/42000 [20:47<13:19, 22.52it/s]  "
     ]
    },
    {
     "name": "stdout",
     "output_type": "stream",
     "text": [
      "Step:110000\n",
      "Train Loss:0.2713042199611664\n",
      "Validation Loss:0.34289753437042236\n",
      "Test Error:0.12220001220703125\n"
     ]
    },
    {
     "name": "stderr",
     "output_type": "stream",
     "text": [
      " 57%|█████▋    | 24001/42000 [20:48<8:18:47,  1.66s/it]"
     ]
    },
    {
     "name": "stdout",
     "output_type": "stream",
     "text": [
      "Saving checkpoint to out/resnet/resnet_ckpt_cifar.pt\n"
     ]
    },
    {
     "name": "stderr",
     "output_type": "stream",
     "text": [
      " 62%|██████▏   | 25999/42000 [22:30<11:51, 22.50it/s]  "
     ]
    },
    {
     "name": "stdout",
     "output_type": "stream",
     "text": [
      "Step:112000\n",
      "Train Loss:0.3468833565711975\n",
      "Validation Loss:0.4306904971599579\n",
      "Test Error:0.14329999685287476\n"
     ]
    },
    {
     "name": "stderr",
     "output_type": "stream",
     "text": [
      " 62%|██████▏   | 26001/42000 [22:31<6:38:23,  1.49s/it]"
     ]
    },
    {
     "name": "stdout",
     "output_type": "stream",
     "text": [
      "Saving checkpoint to out/resnet/resnet_ckpt_cifar.pt\n"
     ]
    },
    {
     "name": "stderr",
     "output_type": "stream",
     "text": [
      " 67%|██████▋   | 27999/42000 [24:00<10:49, 21.56it/s]  "
     ]
    },
    {
     "name": "stdout",
     "output_type": "stream",
     "text": [
      "Step:114000\n",
      "Train Loss:0.34838271141052246\n",
      "Validation Loss:0.39993754029273987\n",
      "Test Error:0.14219999313354492\n"
     ]
    },
    {
     "name": "stderr",
     "output_type": "stream",
     "text": [
      " 67%|██████▋   | 28002/42000 [24:14<5:14:33,  1.35s/it]"
     ]
    },
    {
     "name": "stdout",
     "output_type": "stream",
     "text": [
      "Saving checkpoint to out/resnet/resnet_ckpt_cifar.pt\n"
     ]
    },
    {
     "name": "stderr",
     "output_type": "stream",
     "text": [
      " 71%|███████▏  | 30000/42000 [25:43<09:00, 22.22it/s]  "
     ]
    },
    {
     "name": "stdout",
     "output_type": "stream",
     "text": [
      "Step:116000\n",
      "Train Loss:0.265550822019577\n",
      "Validation Loss:0.35589101910591125\n",
      "Test Error:0.12639999389648438\n"
     ]
    },
    {
     "name": "stderr",
     "output_type": "stream",
     "text": [
      " 71%|███████▏  | 30003/42000 [25:57<4:29:36,  1.35s/it]"
     ]
    },
    {
     "name": "stdout",
     "output_type": "stream",
     "text": [
      "Saving checkpoint to out/resnet/resnet_ckpt_cifar.pt\n"
     ]
    },
    {
     "name": "stderr",
     "output_type": "stream",
     "text": [
      " 76%|███████▌  | 31998/42000 [27:37<07:41, 21.69it/s]  "
     ]
    },
    {
     "name": "stdout",
     "output_type": "stream",
     "text": [
      "Step:118000\n",
      "Train Loss:0.34313708543777466\n",
      "Validation Loss:0.4439244270324707\n",
      "Test Error:0.15540003776550293\n"
     ]
    },
    {
     "name": "stderr",
     "output_type": "stream",
     "text": [
      " 76%|███████▌  | 32001/42000 [27:40<3:45:14,  1.35s/it]"
     ]
    },
    {
     "name": "stdout",
     "output_type": "stream",
     "text": [
      "Saving checkpoint to out/resnet/resnet_ckpt_cifar.pt\n"
     ]
    },
    {
     "name": "stderr",
     "output_type": "stream",
     "text": [
      " 81%|████████  | 33999/42000 [29:10<06:03, 22.02it/s]  "
     ]
    },
    {
     "name": "stdout",
     "output_type": "stream",
     "text": [
      "Step:120000\n",
      "Train Loss:0.3338101804256439\n",
      "Validation Loss:0.3894059956073761\n",
      "Test Error:0.14079999923706055\n"
     ]
    },
    {
     "name": "stderr",
     "output_type": "stream",
     "text": [
      " 81%|████████  | 34002/42000 [29:23<3:00:18,  1.35s/it]"
     ]
    },
    {
     "name": "stdout",
     "output_type": "stream",
     "text": [
      "Saving checkpoint to out/resnet/resnet_ckpt_cifar.pt\n"
     ]
    },
    {
     "name": "stderr",
     "output_type": "stream",
     "text": [
      " 86%|████████▌ | 36000/42000 [30:53<04:32, 22.01it/s]  "
     ]
    },
    {
     "name": "stdout",
     "output_type": "stream",
     "text": [
      "Step:122000\n",
      "Train Loss:0.2929958403110504\n",
      "Validation Loss:0.37388598918914795\n",
      "Test Error:0.13530004024505615\n"
     ]
    },
    {
     "name": "stderr",
     "output_type": "stream",
     "text": [
      " 86%|████████▌ | 36003/42000 [31:07<2:15:04,  1.35s/it]"
     ]
    },
    {
     "name": "stdout",
     "output_type": "stream",
     "text": [
      "Saving checkpoint to out/resnet/resnet_ckpt_cifar.pt\n"
     ]
    },
    {
     "name": "stderr",
     "output_type": "stream",
     "text": [
      " 90%|█████████ | 37998/42000 [32:47<02:59, 22.33it/s]  "
     ]
    },
    {
     "name": "stdout",
     "output_type": "stream",
     "text": [
      "Step:124000\n",
      "Train Loss:0.26342615485191345\n",
      "Validation Loss:0.3551349937915802\n",
      "Test Error:0.12130004167556763\n"
     ]
    },
    {
     "name": "stderr",
     "output_type": "stream",
     "text": [
      " 90%|█████████ | 38001/42000 [32:49<1:29:13,  1.34s/it]"
     ]
    },
    {
     "name": "stdout",
     "output_type": "stream",
     "text": [
      "Saving checkpoint to out/resnet/resnet_ckpt_cifar.pt\n"
     ]
    },
    {
     "name": "stderr",
     "output_type": "stream",
     "text": [
      " 95%|█████████▌| 39999/42000 [34:30<01:29, 22.38it/s]  "
     ]
    },
    {
     "name": "stdout",
     "output_type": "stream",
     "text": [
      "Step:126000\n",
      "Train Loss:0.3198850452899933\n",
      "Validation Loss:0.40604719519615173\n",
      "Test Error:0.13600003719329834\n"
     ]
    },
    {
     "name": "stderr",
     "output_type": "stream",
     "text": [
      " 95%|█████████▌| 40001/42000 [34:32<49:51,  1.50s/it]"
     ]
    },
    {
     "name": "stdout",
     "output_type": "stream",
     "text": [
      "Saving checkpoint to out/resnet/resnet_ckpt_cifar.pt\n"
     ]
    },
    {
     "name": "stderr",
     "output_type": "stream",
     "text": [
      "100%|██████████| 42000/42000 [36:01<00:00, 19.43it/s]\n"
     ]
    }
   ],
   "source": [
    "from train import Trainer\n",
    "trainer = Trainer(train_set, val_set, test_set,train_config, model_config)\n",
    "trainer.train()"
   ]
  },
  {
   "cell_type": "code",
   "execution_count": 3,
   "metadata": {},
   "outputs": [
    {
     "name": "stderr",
     "output_type": "stream",
     "text": [
      "/home/varun/projects/experiments-with-gpt2/vision_models/eval.py:21: FutureWarning: You are using `torch.load` with `weights_only=False` (the current default value), which uses the default pickle module implicitly. It is possible to construct malicious pickle data which will execute arbitrary code during unpickling (See https://github.com/pytorch/pytorch/blob/main/SECURITY.md#untrusted-models for more details). In a future release, the default value for `weights_only` will be flipped to `True`. This limits the functions that could be executed during unpickling. Arbitrary objects will no longer be allowed to be loaded via this mode unless they are explicitly allowlisted by the user via `torch.serialization.add_safe_globals`. We recommend you start setting `weights_only=True` for any use case where you don't have full control of the loaded file. Please open an issue on GitHub for any issues related to this experimental feature.\n",
      "  ckpt = torch.load(self.eval_config.checkpoint_path,map_location=self.eval_config.device)\n"
     ]
    },
    {
     "name": "stdout",
     "output_type": "stream",
     "text": [
      "No of parameters in the model: 272464\n"
     ]
    },
    {
     "name": "stderr",
     "output_type": "stream",
     "text": [
      "  0%|          | 0/157 [00:00<?, ?it/s]/home/varun/projects/experiments-with-gpt2/vision_models/eval.py:45: UserWarning: To copy construct from a tensor, it is recommended to use sourceTensor.clone().detach() or sourceTensor.clone().detach().requires_grad_(True), rather than torch.tensor(sourceTensor).\n",
      "  labels = torch.tensor(batch[\"label\"]).to(self.eval_config.device)\n",
      "100%|██████████| 157/157 [00:04<00:00, 32.24it/s]"
     ]
    },
    {
     "name": "stdout",
     "output_type": "stream",
     "text": [
      "Accuracy: 0.8639999628067017\n",
      "Error: 0.13600003719329834\n"
     ]
    },
    {
     "name": "stderr",
     "output_type": "stream",
     "text": [
      "\n"
     ]
    }
   ],
   "source": [
    "from eval import Eval\n",
    "from cifar10 import cifar10\n",
    "from resnet_config import ResNetTestConfig, ResNetConfig\n",
    "evaluator = Eval(test_set=cifar10(\"test\"),eval_config=ResNetTestConfig(),model_config=ResNetConfig)\n",
    "evaluator.evaluate()"
   ]
  }
 ],
 "metadata": {
  "kernelspec": {
   "display_name": ".venv",
   "language": "python",
   "name": "python3"
  },
  "language_info": {
   "codemirror_mode": {
    "name": "ipython",
    "version": 3
   },
   "file_extension": ".py",
   "mimetype": "text/x-python",
   "name": "python",
   "nbconvert_exporter": "python",
   "pygments_lexer": "ipython3",
   "version": "3.12.7"
  }
 },
 "nbformat": 4,
 "nbformat_minor": 2
}
